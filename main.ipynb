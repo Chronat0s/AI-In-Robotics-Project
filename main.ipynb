{
 "cells": [
  {
   "cell_type": "markdown",
   "metadata": {},
   "source": [
    "## Cobot Projectile Obstacle Avoidance\n",
    "Work Items:\n",
    "1. Obstacle generator\n",
    "2. YOLO image segmentation\n",
    "3. Cobot control and DQN"
   ]
  },
  {
   "cell_type": "code",
   "execution_count": 1,
   "metadata": {},
   "outputs": [],
   "source": [
    "import pybullet as p\n",
    "import gym\n",
    "import matplotlib.pyplot as plt\n",
    "import numpy as np\n",
    "import torch\n",
    "import random\n",
    "import cobot_ai4robotics"
   ]
  },
  {
   "cell_type": "code",
   "execution_count": 2,
   "metadata": {},
   "outputs": [
    {
     "name": "stderr",
     "output_type": "stream",
     "text": [
      "c:\\Users\\morne\\miniconda3\\envs\\AI4RoboProject\\lib\\site-packages\\gym\\utils\\passive_env_checker.py:165: UserWarning: \u001b[33mWARN: The obs returned by the `reset()` method is not within the observation space.\u001b[0m\n",
      "  logger.warn(f\"{pre} is not within the observation space.\")\n",
      "c:\\Users\\morne\\miniconda3\\envs\\AI4RoboProject\\lib\\site-packages\\gym\\utils\\passive_env_checker.py:233: DeprecationWarning: `np.bool8` is a deprecated alias for `np.bool_`.  (Deprecated NumPy 1.24)\n",
      "  if not isinstance(terminated, (bool, np.bool8)):\n",
      "c:\\Users\\morne\\miniconda3\\envs\\AI4RoboProject\\lib\\site-packages\\gym\\utils\\passive_env_checker.py:137: UserWarning: \u001b[33mWARN: The obs returned by the `step()` method was expecting a numpy array, actual type: <class 'NoneType'>\u001b[0m\n",
      "  logger.warn(\n",
      "c:\\Users\\morne\\miniconda3\\envs\\AI4RoboProject\\lib\\site-packages\\gym\\spaces\\box.py:227: UserWarning: \u001b[33mWARN: Casting input x to numpy array.\u001b[0m\n",
      "  logger.warn(\"Casting input x to numpy array.\")\n",
      "c:\\Users\\morne\\miniconda3\\envs\\AI4RoboProject\\lib\\site-packages\\gym\\utils\\passive_env_checker.py:165: UserWarning: \u001b[33mWARN: The obs returned by the `step()` method is not within the observation space.\u001b[0m\n",
      "  logger.warn(f\"{pre} is not within the observation space.\")\n"
     ]
    },
    {
     "name": "stdout",
     "output_type": "stream",
     "text": [
      "Contact by banana no. 4 at point (0.10 0.10 0.65) on KUKA.\n",
      "Contact by banana no. 10 at point (0.80 0.06 1.21) on KUKA.\n",
      "Contact by banana no. 10 at point (0.81 0.06 1.20) on KUKA.\n",
      "Contact by banana no. 10 at point (0.81 0.07 1.18) on KUKA.\n",
      "Contact by banana no. 10 at point (0.82 0.08 1.16) on KUKA.\n",
      "Contact by banana no. 17 at point (0.20 0.03 0.64) on KUKA.\n",
      "Contact by banana no. 17 at point (0.19 0.05 0.65) on KUKA.\n",
      "Contact by banana no. 17 at point (0.18 0.06 0.66) on KUKA.\n",
      "Contact by banana no. 17 at point (0.17 0.06 0.68) on KUKA.\n",
      "Contact by banana no. 17 at point (0.16 0.07 0.69) on KUKA.\n",
      "Contact by banana no. 17 at point (0.16 0.07 0.70) on KUKA.\n",
      "Contact by banana no. 2 at point (0.14 0.06 0.71) on KUKA.\n",
      "Contact by banana no. 2 at point (0.09 0.09 0.71) on KUKA.\n",
      "Contact by banana no. 4 at point (0.49 -0.28 1.54) on KUKA.\n",
      "Contact by banana no. 1 at point (0.18 0.03 1.21) on KUKA.\n",
      "Contact by banana no. 2 at point (0.20 -0.04 0.62) on KUKA.\n",
      "Contact by banana no. 2 at point (0.19 -0.05 0.65) on KUKA.\n",
      "Contact by banana no. 2 at point (0.18 -0.05 0.67) on KUKA.\n",
      "Contact by banana no. 2 at point (0.17 -0.06 0.70) on KUKA.\n",
      "Contact by banana no. 2 at point (0.17 -0.05 0.70) on KUKA.\n",
      "Contact by banana no. 2 at point (0.17 -0.05 0.70) on KUKA.\n",
      "Contact by banana no. 2 at point (0.18 -0.05 0.69) on KUKA.\n",
      "Contact by banana no. 4 at point (0.23 -0.15 1.27) on KUKA.\n",
      "Contact by banana no. 4 at point (0.20 -0.16 1.23) on KUKA.\n",
      "Contact by banana no. 4 at point (0.17 -0.16 1.19) on KUKA.\n",
      "Contact by banana no. 4 at point (0.14 -0.15 1.15) on KUKA.\n",
      "Contact by banana no. 2 at point (0.15 -0.06 0.80) on KUKA.\n",
      "Contact by banana no. 2 at point (0.14 -0.08 0.77) on KUKA.\n",
      "Contact by banana no. 7 at point (0.20 -0.11 1.24) on KUKA.\n",
      "Contact by banana no. 7 at point (0.19 -0.10 1.21) on KUKA.\n",
      "Contact by banana no. 7 at point (0.19 -0.08 1.17) on KUKA.\n",
      "Contact by banana no. 7 at point (0.17 -0.06 1.11) on KUKA.\n",
      "Contact by banana no. 7 at point (0.18 -0.07 1.13) on KUKA.\n",
      "Contact by banana no. 0 at point (0.14 -0.12 1.44) on KUKA.\n",
      "Contact by banana no. 0 at point (0.12 -0.13 1.38) on KUKA.\n",
      "Contact by banana no. 0 at point (0.11 -0.07 1.38) on KUKA.\n",
      "Contact by banana no. 0 at point (0.09 -0.04 1.35) on KUKA.\n",
      "Contact by banana no. 0 at point (0.08 -0.03 1.32) on KUKA.\n"
     ]
    },
    {
     "ename": "error",
     "evalue": "Not connected to physics server.",
     "output_type": "error",
     "traceback": [
      "\u001b[1;31m---------------------------------------------------------------------------\u001b[0m",
      "\u001b[1;31merror\u001b[0m                                     Traceback (most recent call last)",
      "Cell \u001b[1;32mIn[2], line 7\u001b[0m\n\u001b[0;32m      5\u001b[0m env\u001b[38;5;241m.\u001b[39mreset()\n\u001b[0;32m      6\u001b[0m \u001b[38;5;28;01mwhile\u001b[39;00m \u001b[38;5;28;01mTrue\u001b[39;00m:\n\u001b[1;32m----> 7\u001b[0m     ob, reward, done, _, info \u001b[38;5;241m=\u001b[39m \u001b[43menv\u001b[49m\u001b[38;5;241;43m.\u001b[39;49m\u001b[43mstep\u001b[49m\u001b[43m(\u001b[49m\u001b[43menv\u001b[49m\u001b[38;5;241;43m.\u001b[39;49m\u001b[43maction_space\u001b[49m\u001b[38;5;241;43m.\u001b[39;49m\u001b[43msample\u001b[49m\u001b[43m(\u001b[49m\u001b[43m)\u001b[49m\u001b[43m)\u001b[49m \u001b[38;5;66;03m# Things will not move unless you call env.step.\u001b[39;00m\n\u001b[0;32m      8\u001b[0m     \u001b[38;5;28;01mif\u001b[39;00m done:\n\u001b[0;32m      9\u001b[0m         \u001b[38;5;28;01mbreak\u001b[39;00m\n",
      "File \u001b[1;32mc:\\Users\\morne\\miniconda3\\envs\\AI4RoboProject\\lib\\site-packages\\gym\\wrappers\\order_enforcing.py:37\u001b[0m, in \u001b[0;36mOrderEnforcing.step\u001b[1;34m(self, action)\u001b[0m\n\u001b[0;32m     35\u001b[0m \u001b[38;5;28;01mif\u001b[39;00m \u001b[38;5;129;01mnot\u001b[39;00m \u001b[38;5;28mself\u001b[39m\u001b[38;5;241m.\u001b[39m_has_reset:\n\u001b[0;32m     36\u001b[0m     \u001b[38;5;28;01mraise\u001b[39;00m ResetNeeded(\u001b[38;5;124m\"\u001b[39m\u001b[38;5;124mCannot call env.step() before calling env.reset()\u001b[39m\u001b[38;5;124m\"\u001b[39m)\n\u001b[1;32m---> 37\u001b[0m \u001b[38;5;28;01mreturn\u001b[39;00m \u001b[38;5;28;43mself\u001b[39;49m\u001b[38;5;241;43m.\u001b[39;49m\u001b[43menv\u001b[49m\u001b[38;5;241;43m.\u001b[39;49m\u001b[43mstep\u001b[49m\u001b[43m(\u001b[49m\u001b[43maction\u001b[49m\u001b[43m)\u001b[49m\n",
      "File \u001b[1;32mc:\\Users\\morne\\miniconda3\\envs\\AI4RoboProject\\lib\\site-packages\\gym\\wrappers\\env_checker.py:39\u001b[0m, in \u001b[0;36mPassiveEnvChecker.step\u001b[1;34m(self, action)\u001b[0m\n\u001b[0;32m     37\u001b[0m     \u001b[38;5;28;01mreturn\u001b[39;00m env_step_passive_checker(\u001b[38;5;28mself\u001b[39m\u001b[38;5;241m.\u001b[39menv, action)\n\u001b[0;32m     38\u001b[0m \u001b[38;5;28;01melse\u001b[39;00m:\n\u001b[1;32m---> 39\u001b[0m     \u001b[38;5;28;01mreturn\u001b[39;00m \u001b[38;5;28;43mself\u001b[39;49m\u001b[38;5;241;43m.\u001b[39;49m\u001b[43menv\u001b[49m\u001b[38;5;241;43m.\u001b[39;49m\u001b[43mstep\u001b[49m\u001b[43m(\u001b[49m\u001b[43maction\u001b[49m\u001b[43m)\u001b[49m\n",
      "File \u001b[1;32mc:\\Users\\morne\\miniconda3\\envs\\AI4RoboProject\\lib\\site-packages\\gym\\wrappers\\compatibility.py:105\u001b[0m, in \u001b[0;36mEnvCompatibility.step\u001b[1;34m(self, action)\u001b[0m\n\u001b[0;32m     96\u001b[0m \u001b[38;5;28;01mdef\u001b[39;00m \u001b[38;5;21mstep\u001b[39m(\u001b[38;5;28mself\u001b[39m, action: Any) \u001b[38;5;241m-\u001b[39m\u001b[38;5;241m>\u001b[39m Tuple[Any, \u001b[38;5;28mfloat\u001b[39m, \u001b[38;5;28mbool\u001b[39m, \u001b[38;5;28mbool\u001b[39m, Dict]:\n\u001b[0;32m     97\u001b[0m \u001b[38;5;250m    \u001b[39m\u001b[38;5;124;03m\"\"\"Steps through the environment.\u001b[39;00m\n\u001b[0;32m     98\u001b[0m \n\u001b[0;32m     99\u001b[0m \u001b[38;5;124;03m    Args:\u001b[39;00m\n\u001b[1;32m   (...)\u001b[0m\n\u001b[0;32m    103\u001b[0m \u001b[38;5;124;03m        (observation, reward, terminated, truncated, info)\u001b[39;00m\n\u001b[0;32m    104\u001b[0m \u001b[38;5;124;03m    \"\"\"\u001b[39;00m\n\u001b[1;32m--> 105\u001b[0m     obs, reward, done, info \u001b[38;5;241m=\u001b[39m \u001b[38;5;28;43mself\u001b[39;49m\u001b[38;5;241;43m.\u001b[39;49m\u001b[43menv\u001b[49m\u001b[38;5;241;43m.\u001b[39;49m\u001b[43mstep\u001b[49m\u001b[43m(\u001b[49m\u001b[43maction\u001b[49m\u001b[43m)\u001b[49m\n\u001b[0;32m    107\u001b[0m     \u001b[38;5;28;01mif\u001b[39;00m \u001b[38;5;28mself\u001b[39m\u001b[38;5;241m.\u001b[39mrender_mode \u001b[38;5;241m==\u001b[39m \u001b[38;5;124m\"\u001b[39m\u001b[38;5;124mhuman\u001b[39m\u001b[38;5;124m\"\u001b[39m:\n\u001b[0;32m    108\u001b[0m         \u001b[38;5;28mself\u001b[39m\u001b[38;5;241m.\u001b[39mrender()\n",
      "File \u001b[1;32mc:\\Users\\morne\\miniconda3\\envs\\AI4RoboProject\\lib\\site-packages\\cobot_ai4robotics-0.1-py3.8.egg\\cobot_ai4robotics\\envs\\cobot_ai4robotics_env.py:101\u001b[0m, in \u001b[0;36mCobotAI4RoboticsEnv.step\u001b[1;34m(self, action)\u001b[0m\n\u001b[0;32m     99\u001b[0m \u001b[38;5;66;03m# Check for a hit and impose penalty (based on location?)\u001b[39;00m\n\u001b[0;32m    100\u001b[0m \u001b[38;5;28;01mfor\u001b[39;00m index, projectile \u001b[38;5;129;01min\u001b[39;00m \u001b[38;5;28menumerate\u001b[39m(\u001b[38;5;28mself\u001b[39m\u001b[38;5;241m.\u001b[39mactive_projectiles):\n\u001b[1;32m--> 101\u001b[0m     contact_points \u001b[38;5;241m=\u001b[39m \u001b[43mp\u001b[49m\u001b[38;5;241;43m.\u001b[39;49m\u001b[43mgetClosestPoints\u001b[49m\u001b[43m(\u001b[49m\u001b[38;5;28;43mself\u001b[39;49m\u001b[38;5;241;43m.\u001b[39;49m\u001b[43mcobot\u001b[49m\u001b[38;5;241;43m.\u001b[39;49m\u001b[43mkukaUid\u001b[49m\u001b[43m,\u001b[49m\u001b[43m \u001b[49m\u001b[43mprojectile\u001b[49m\u001b[38;5;241;43m.\u001b[39;49m\u001b[43mid\u001b[49m\u001b[43m,\u001b[49m\u001b[43m \u001b[49m\u001b[43mdistance\u001b[49m\u001b[43m \u001b[49m\u001b[38;5;241;43m=\u001b[39;49m\u001b[43m \u001b[49m\u001b[38;5;241;43m0\u001b[39;49m\u001b[43m)\u001b[49m\n\u001b[0;32m    102\u001b[0m     \u001b[38;5;28;01mif\u001b[39;00m contact_points:\n\u001b[0;32m    103\u001b[0m         \u001b[38;5;28mprint\u001b[39m(\u001b[38;5;124m\"\u001b[39m\u001b[38;5;124mContact by banana no.\u001b[39m\u001b[38;5;124m\"\u001b[39m, index, \u001b[38;5;124m'\u001b[39m\u001b[38;5;124mat point\u001b[39m\u001b[38;5;124m'\u001b[39m, \u001b[38;5;124mf\u001b[39m\u001b[38;5;124m'\u001b[39m\u001b[38;5;124m(\u001b[39m\u001b[38;5;132;01m{\u001b[39;00mcontact_points[\u001b[38;5;241m0\u001b[39m][\u001b[38;5;241m5\u001b[39m][\u001b[38;5;241m0\u001b[39m]\u001b[38;5;132;01m:\u001b[39;00m\u001b[38;5;124m.2f\u001b[39m\u001b[38;5;132;01m}\u001b[39;00m\u001b[38;5;124m'\u001b[39m, \u001b[38;5;124mf\u001b[39m\u001b[38;5;124m'\u001b[39m\u001b[38;5;132;01m{\u001b[39;00mcontact_points[\u001b[38;5;241m0\u001b[39m][\u001b[38;5;241m5\u001b[39m][\u001b[38;5;241m1\u001b[39m]\u001b[38;5;132;01m:\u001b[39;00m\u001b[38;5;124m.2f\u001b[39m\u001b[38;5;132;01m}\u001b[39;00m\u001b[38;5;124m'\u001b[39m, \u001b[38;5;124mf\u001b[39m\u001b[38;5;124m'\u001b[39m\u001b[38;5;132;01m{\u001b[39;00mcontact_points[\u001b[38;5;241m0\u001b[39m][\u001b[38;5;241m5\u001b[39m][\u001b[38;5;241m2\u001b[39m]\u001b[38;5;132;01m:\u001b[39;00m\u001b[38;5;124m.2f\u001b[39m\u001b[38;5;132;01m}\u001b[39;00m\u001b[38;5;124m)\u001b[39m\u001b[38;5;124m'\u001b[39m , \u001b[38;5;124m'\u001b[39m\u001b[38;5;124mon KUKA.\u001b[39m\u001b[38;5;124m'\u001b[39m) \n",
      "\u001b[1;31merror\u001b[0m: Not connected to physics server."
     ]
    }
   ],
   "source": [
    "# Basic code to open the GUI environment window.\n",
    "# https://www.gymlibrary.dev/content/environment_creation/ - make a custom gym environment.\n",
    "\n",
    "env = gym.make(\"cobot_ai4robotics\", apply_api_compatibility=True, renders=True, isDiscrete=False)\n",
    "env.reset()\n",
    "while True:\n",
    "    ob, reward, done, _, info = env.step(env.action_space.sample()) # Things will not move unless you call env.step.\n",
    "    if done:\n",
    "        break\n",
    "env.close()"
   ]
  }
 ],
 "metadata": {
  "kernelspec": {
   "display_name": "Python 3",
   "language": "python",
   "name": "python3"
  },
  "language_info": {
   "codemirror_mode": {
    "name": "ipython",
    "version": 3
   },
   "file_extension": ".py",
   "mimetype": "text/x-python",
   "name": "python",
   "nbconvert_exporter": "python",
   "pygments_lexer": "ipython3",
   "version": "3.8.19"
  }
 },
 "nbformat": 4,
 "nbformat_minor": 2
}
