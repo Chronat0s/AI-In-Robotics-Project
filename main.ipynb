{
 "cells": [
  {
   "cell_type": "markdown",
   "metadata": {},
   "source": [
    "## Cobot Projectile Obstacle Avoidance\n",
    "Work Items:\n",
    "1. Obstacle generator\n",
    "2. YOLO image segmentation\n",
    "3. Cobot control and DQN"
   ]
  },
  {
   "cell_type": "code",
   "execution_count": 1,
   "metadata": {},
   "outputs": [],
   "source": [
    "import pybullet as p\n",
    "import gym\n",
    "import matplotlib.pyplot as plt\n",
    "import numpy as np\n",
    "import torch\n",
    "import random\n",
    "import cobot_ai4robotics"
   ]
  },
  {
   "cell_type": "code",
   "execution_count": 2,
   "metadata": {},
   "outputs": [
    {
     "name": "stderr",
     "output_type": "stream",
     "text": [
      "c:\\Users\\Morne\\miniconda3\\envs\\AI_Project\\lib\\site-packages\\gym\\utils\\passive_env_checker.py:165: UserWarning: \u001b[33mWARN: The obs returned by the `reset()` method is not within the observation space.\u001b[0m\n",
      "  logger.warn(f\"{pre} is not within the observation space.\")\n",
      "c:\\Users\\Morne\\miniconda3\\envs\\AI_Project\\lib\\site-packages\\gym\\utils\\passive_env_checker.py:233: DeprecationWarning: `np.bool8` is a deprecated alias for `np.bool_`.  (Deprecated NumPy 1.24)\n",
      "  if not isinstance(terminated, (bool, np.bool8)):\n",
      "c:\\Users\\Morne\\miniconda3\\envs\\AI_Project\\lib\\site-packages\\gym\\utils\\passive_env_checker.py:137: UserWarning: \u001b[33mWARN: The obs returned by the `step()` method was expecting a numpy array, actual type: <class 'list'>\u001b[0m\n",
      "  logger.warn(\n",
      "c:\\Users\\Morne\\miniconda3\\envs\\AI_Project\\lib\\site-packages\\gym\\spaces\\box.py:227: UserWarning: \u001b[33mWARN: Casting input x to numpy array.\u001b[0m\n",
      "  logger.warn(\"Casting input x to numpy array.\")\n",
      "c:\\Users\\Morne\\miniconda3\\envs\\AI_Project\\lib\\site-packages\\gym\\utils\\passive_env_checker.py:165: UserWarning: \u001b[33mWARN: The obs returned by the `step()` method is not within the observation space.\u001b[0m\n",
      "  logger.warn(f\"{pre} is not within the observation space.\")\n"
     ]
    },
    {
     "name": "stdout",
     "output_type": "stream",
     "text": [
      "Contact by ball no. 6 at point (0.70 -0.22 1.18) on KUKA.\n",
      "Contact by ball no. 6 at point (0.70 -0.23 1.18) on KUKA.\n",
      "Contact by ball no. 9 at point (-0.67 0.34 1.16) on KUKA.\n",
      "Contact by ball no. 9 at point (-0.64 0.41 1.09) on KUKA.\n",
      "Contact by ball no. 9 at point (-0.62 0.46 1.03) on KUKA.\n",
      "Contact by ball no. 11 at point (0.40 -0.24 1.41) on KUKA.\n",
      "Contact by ball no. 11 at point (0.43 -0.23 1.44) on KUKA.\n",
      "Contact by ball no. 11 at point (0.42 -0.18 1.43) on KUKA.\n",
      "Contact by ball no. 11 at point (0.42 -0.13 1.40) on KUKA.\n",
      "Contact by ball no. 11 at point (0.41 -0.03 1.33) on KUKA.\n",
      "Contact by ball no. 11 at point (0.44 0.03 1.27) on KUKA.\n",
      "Contact by ball no. 11 at point (0.46 0.05 1.21) on KUKA.\n",
      "Contact by ball no. 11 at point (0.46 0.07 1.16) on KUKA.\n",
      "Contact by ball no. 11 at point (0.30 0.06 1.01) on KUKA.\n",
      "Contact by ball no. 11 at point (0.28 0.05 0.99) on KUKA.\n",
      "Contact by ball no. 11 at point (0.30 0.06 1.01) on KUKA.\n",
      "Contact by ball no. 11 at point (0.30 0.06 1.01) on KUKA.\n",
      "Contact by ball no. 12 at point (0.57 -0.50 1.41) on KUKA.\n",
      "Contact by ball no. 12 at point (0.55 -0.48 1.53) on KUKA.\n",
      "Contact by ball no. 13 at point (0.41 0.23 1.42) on KUKA.\n",
      "Contact by ball no. 13 at point (0.43 0.22 1.39) on KUKA.\n",
      "Contact by ball no. 13 at point (0.42 0.21 1.36) on KUKA.\n",
      "Contact by ball no. 13 at point (0.41 0.22 1.34) on KUKA.\n",
      "Contact by ball no. 13 at point (0.14 -0.07 0.96) on KUKA.\n",
      "Contact by ball no. 13 at point (0.13 -0.08 0.96) on KUKA.\n",
      "Contact by ball no. 13 at point (0.12 -0.08 0.96) on KUKA.\n",
      "Contact by ball no. 13 at point (0.11 -0.09 0.96) on KUKA.\n",
      "Contact by ball no. 0 at point (0.49 -0.21 1.44) on KUKA.\n",
      "Contact by ball no. 0 at point (0.47 -0.22 1.45) on KUKA.\n",
      "Contact by ball no. 1 at point (-0.20 0.04 1.36) on KUKA.\n",
      "Contact by ball no. 1 at point (-0.20 0.02 1.38) on KUKA.\n",
      "Contact by ball no. 1 at point (-0.26 -0.05 1.46) on KUKA.\n",
      "Contact by ball no. 2 at point (0.50 -0.14 1.10) on KUKA.\n",
      "Contact by ball no. 2 at point (0.47 -0.19 1.10) on KUKA.\n",
      "Contact by ball no. 2 at point (0.49 -0.19 1.08) on KUKA.\n",
      "Contact by ball no. 3 at point (0.62 -0.13 1.36) on KUKA.\n"
     ]
    },
    {
     "ename": "error",
     "evalue": "Not connected to physics server.",
     "output_type": "error",
     "traceback": [
      "\u001b[1;31m---------------------------------------------------------------------------\u001b[0m",
      "\u001b[1;31merror\u001b[0m                                     Traceback (most recent call last)",
      "Cell \u001b[1;32mIn[2], line 10\u001b[0m\n\u001b[0;32m      8\u001b[0m origin \u001b[38;5;241m=\u001b[39m np\u001b[38;5;241m.\u001b[39marray([\u001b[38;5;241m0\u001b[39m,\u001b[38;5;241m0\u001b[39m,\u001b[38;5;241m0\u001b[39m,\u001b[38;5;241m0\u001b[39m,\u001b[38;5;241m0\u001b[39m,\u001b[38;5;241m0\u001b[39m,\u001b[38;5;241m0\u001b[39m])\n\u001b[0;32m      9\u001b[0m \u001b[38;5;28;01mwhile\u001b[39;00m \u001b[38;5;28;01mTrue\u001b[39;00m:\n\u001b[1;32m---> 10\u001b[0m     ob, reward, done, _, info \u001b[38;5;241m=\u001b[39m \u001b[43menv\u001b[49m\u001b[38;5;241;43m.\u001b[39;49m\u001b[43mstep\u001b[49m\u001b[43m(\u001b[49m\u001b[43menv\u001b[49m\u001b[38;5;241;43m.\u001b[39;49m\u001b[43maction_space\u001b[49m\u001b[38;5;241;43m.\u001b[39;49m\u001b[43msample\u001b[49m\u001b[43m(\u001b[49m\u001b[43m)\u001b[49m\u001b[43m)\u001b[49m \u001b[38;5;66;03m# Things will not move unless you call env.step.\u001b[39;00m\n\u001b[0;32m     11\u001b[0m     \u001b[38;5;28;01mif\u001b[39;00m done:\n\u001b[0;32m     12\u001b[0m         \u001b[38;5;28;01mbreak\u001b[39;00m\n",
      "File \u001b[1;32mc:\\Users\\Morne\\miniconda3\\envs\\AI_Project\\lib\\site-packages\\gym\\wrappers\\order_enforcing.py:37\u001b[0m, in \u001b[0;36mOrderEnforcing.step\u001b[1;34m(self, action)\u001b[0m\n\u001b[0;32m     35\u001b[0m \u001b[38;5;28;01mif\u001b[39;00m \u001b[38;5;129;01mnot\u001b[39;00m \u001b[38;5;28mself\u001b[39m\u001b[38;5;241m.\u001b[39m_has_reset:\n\u001b[0;32m     36\u001b[0m     \u001b[38;5;28;01mraise\u001b[39;00m ResetNeeded(\u001b[38;5;124m\"\u001b[39m\u001b[38;5;124mCannot call env.step() before calling env.reset()\u001b[39m\u001b[38;5;124m\"\u001b[39m)\n\u001b[1;32m---> 37\u001b[0m \u001b[38;5;28;01mreturn\u001b[39;00m \u001b[38;5;28;43mself\u001b[39;49m\u001b[38;5;241;43m.\u001b[39;49m\u001b[43menv\u001b[49m\u001b[38;5;241;43m.\u001b[39;49m\u001b[43mstep\u001b[49m\u001b[43m(\u001b[49m\u001b[43maction\u001b[49m\u001b[43m)\u001b[49m\n",
      "File \u001b[1;32mc:\\Users\\Morne\\miniconda3\\envs\\AI_Project\\lib\\site-packages\\gym\\wrappers\\env_checker.py:39\u001b[0m, in \u001b[0;36mPassiveEnvChecker.step\u001b[1;34m(self, action)\u001b[0m\n\u001b[0;32m     37\u001b[0m     \u001b[38;5;28;01mreturn\u001b[39;00m env_step_passive_checker(\u001b[38;5;28mself\u001b[39m\u001b[38;5;241m.\u001b[39menv, action)\n\u001b[0;32m     38\u001b[0m \u001b[38;5;28;01melse\u001b[39;00m:\n\u001b[1;32m---> 39\u001b[0m     \u001b[38;5;28;01mreturn\u001b[39;00m \u001b[38;5;28;43mself\u001b[39;49m\u001b[38;5;241;43m.\u001b[39;49m\u001b[43menv\u001b[49m\u001b[38;5;241;43m.\u001b[39;49m\u001b[43mstep\u001b[49m\u001b[43m(\u001b[49m\u001b[43maction\u001b[49m\u001b[43m)\u001b[49m\n",
      "File \u001b[1;32mc:\\Users\\Morne\\miniconda3\\envs\\AI_Project\\lib\\site-packages\\gym\\wrappers\\compatibility.py:105\u001b[0m, in \u001b[0;36mEnvCompatibility.step\u001b[1;34m(self, action)\u001b[0m\n\u001b[0;32m     96\u001b[0m \u001b[38;5;28;01mdef\u001b[39;00m \u001b[38;5;21mstep\u001b[39m(\u001b[38;5;28mself\u001b[39m, action: Any) \u001b[38;5;241m-\u001b[39m\u001b[38;5;241m>\u001b[39m Tuple[Any, \u001b[38;5;28mfloat\u001b[39m, \u001b[38;5;28mbool\u001b[39m, \u001b[38;5;28mbool\u001b[39m, Dict]:\n\u001b[0;32m     97\u001b[0m \u001b[38;5;250m    \u001b[39m\u001b[38;5;124;03m\"\"\"Steps through the environment.\u001b[39;00m\n\u001b[0;32m     98\u001b[0m \n\u001b[0;32m     99\u001b[0m \u001b[38;5;124;03m    Args:\u001b[39;00m\n\u001b[1;32m   (...)\u001b[0m\n\u001b[0;32m    103\u001b[0m \u001b[38;5;124;03m        (observation, reward, terminated, truncated, info)\u001b[39;00m\n\u001b[0;32m    104\u001b[0m \u001b[38;5;124;03m    \"\"\"\u001b[39;00m\n\u001b[1;32m--> 105\u001b[0m     obs, reward, done, info \u001b[38;5;241m=\u001b[39m \u001b[38;5;28;43mself\u001b[39;49m\u001b[38;5;241;43m.\u001b[39;49m\u001b[43menv\u001b[49m\u001b[38;5;241;43m.\u001b[39;49m\u001b[43mstep\u001b[49m\u001b[43m(\u001b[49m\u001b[43maction\u001b[49m\u001b[43m)\u001b[49m\n\u001b[0;32m    107\u001b[0m     \u001b[38;5;28;01mif\u001b[39;00m \u001b[38;5;28mself\u001b[39m\u001b[38;5;241m.\u001b[39mrender_mode \u001b[38;5;241m==\u001b[39m \u001b[38;5;124m\"\u001b[39m\u001b[38;5;124mhuman\u001b[39m\u001b[38;5;124m\"\u001b[39m:\n\u001b[0;32m    108\u001b[0m         \u001b[38;5;28mself\u001b[39m\u001b[38;5;241m.\u001b[39mrender()\n",
      "File \u001b[1;32mc:\\Users\\Morne\\miniconda3\\envs\\AI_Project\\lib\\site-packages\\cobot_ai4robotics-0.1-py3.8.egg\\cobot_ai4robotics\\envs\\cobot_ai4robotics_env.py:94\u001b[0m, in \u001b[0;36mCobotAI4RoboticsEnv.step\u001b[1;34m(self, action)\u001b[0m\n\u001b[0;32m     92\u001b[0m \u001b[38;5;28mself\u001b[39m\u001b[38;5;241m.\u001b[39mcurrent_frame \u001b[38;5;241m=\u001b[39m \u001b[38;5;28mself\u001b[39m\u001b[38;5;241m.\u001b[39mrefreshImage()\n\u001b[0;32m     93\u001b[0m \u001b[38;5;66;03m# Observation space is [current pose, projectile yolo_pred data (closest n projectiles)]\u001b[39;00m\n\u001b[1;32m---> 94\u001b[0m ob \u001b[38;5;241m=\u001b[39m \u001b[38;5;28;43mself\u001b[39;49m\u001b[38;5;241;43m.\u001b[39;49m\u001b[43mgetObservation\u001b[49m\u001b[43m(\u001b[49m\u001b[43m)\u001b[49m\n\u001b[0;32m     96\u001b[0m \u001b[38;5;66;03m# Check for a hit and impose penalty (based on location?)\u001b[39;00m\n\u001b[0;32m     97\u001b[0m \u001b[38;5;28;01mfor\u001b[39;00m index, projectile \u001b[38;5;129;01min\u001b[39;00m \u001b[38;5;28menumerate\u001b[39m(\u001b[38;5;28mself\u001b[39m\u001b[38;5;241m.\u001b[39mactive_projectiles):\n",
      "File \u001b[1;32mc:\\Users\\Morne\\miniconda3\\envs\\AI_Project\\lib\\site-packages\\cobot_ai4robotics-0.1-py3.8.egg\\cobot_ai4robotics\\envs\\cobot_ai4robotics_env.py:343\u001b[0m, in \u001b[0;36mCobotAI4RoboticsEnv.getObservation\u001b[1;34m(self)\u001b[0m\n\u001b[0;32m    341\u001b[0m observation \u001b[38;5;241m=\u001b[39m []\n\u001b[0;32m    342\u001b[0m \u001b[38;5;66;03m# Get current KUKA pose.\u001b[39;00m\n\u001b[1;32m--> 343\u001b[0m cobot_obs \u001b[38;5;241m=\u001b[39m \u001b[38;5;28;43mself\u001b[39;49m\u001b[38;5;241;43m.\u001b[39;49m\u001b[43mcobot\u001b[49m\u001b[38;5;241;43m.\u001b[39;49m\u001b[43mgetPose\u001b[49m\u001b[43m(\u001b[49m\u001b[43m)\u001b[49m[\u001b[38;5;241m0\u001b[39m:\u001b[38;5;241m7\u001b[39m] \u001b[38;5;66;03m# Check if this is right.\u001b[39;00m\n\u001b[0;32m    344\u001b[0m \u001b[38;5;66;03m# print(cobot_obs)\u001b[39;00m\n\u001b[0;32m    346\u001b[0m closest_projectile_data \u001b[38;5;241m=\u001b[39m [] \u001b[38;5;66;03m# Placeholders for no obstacle detected.\u001b[39;00m\n",
      "File \u001b[1;32mc:\\Users\\Morne\\miniconda3\\envs\\AI_Project\\lib\\site-packages\\cobot_ai4robotics-0.1-py3.8.egg\\cobot_ai4robotics\\resources\\cobot\\kuka.py:225\u001b[0m, in \u001b[0;36mKuka.getPose\u001b[1;34m(self)\u001b[0m\n\u001b[0;32m    221\u001b[0m \u001b[38;5;28;01mdef\u001b[39;00m \u001b[38;5;21mgetPose\u001b[39m(\u001b[38;5;28mself\u001b[39m):\n\u001b[0;32m    222\u001b[0m \u001b[38;5;250m  \u001b[39m\u001b[38;5;124;03m'''\u001b[39;00m\n\u001b[0;32m    223\u001b[0m \u001b[38;5;124;03m  Return the current pose using inverse kinematics.\u001b[39;00m\n\u001b[0;32m    224\u001b[0m \u001b[38;5;124;03m  '''\u001b[39;00m\n\u001b[1;32m--> 225\u001b[0m   state \u001b[38;5;241m=\u001b[39m \u001b[43mp\u001b[49m\u001b[38;5;241;43m.\u001b[39;49m\u001b[43mgetLinkState\u001b[49m\u001b[43m(\u001b[49m\u001b[38;5;28;43mself\u001b[39;49m\u001b[38;5;241;43m.\u001b[39;49m\u001b[43mkukaUid\u001b[49m\u001b[43m,\u001b[49m\u001b[43m \u001b[49m\u001b[38;5;28;43mself\u001b[39;49m\u001b[38;5;241;43m.\u001b[39;49m\u001b[43mkukaEndEffectorIndex\u001b[49m\u001b[43m)\u001b[49m\n\u001b[0;32m    226\u001b[0m   actualEndEffectorPos \u001b[38;5;241m=\u001b[39m state[\u001b[38;5;241m0\u001b[39m]\n\u001b[0;32m    227\u001b[0m   \u001b[38;5;66;03m# pos = self.endEffectorPos\u001b[39;00m\n",
      "\u001b[1;31merror\u001b[0m: Not connected to physics server."
     ]
    }
   ],
   "source": [
    "# Basic code to open the GUI environment window.\n",
    "# https://www.gymlibrary.dev/content/environment_creation/ - make a custom gym environment.\n",
    "\n",
    "env = gym.make(\"cobot_ai4robotics\", apply_api_compatibility=True, renders=True, isDiscrete=False)\n",
    "env.reset()\n",
    "\n",
    "# Modify joint control so that it is a change to the current joint position, not specifying a joint position.\n",
    "origin = np.array([0,0,0,0,0,0,0])\n",
    "while True:\n",
    "    ob, reward, done, _, info = env.step(env.action_space.sample()) # Things will not move unless you call env.step.\n",
    "    if done:\n",
    "        break\n",
    "    # print(ob)\n",
    "    # print(env.action_space.sample())\n",
    "    # First 7 items in ob are the pose (or they're meant to be, they seem dodgy?). The next 4 numbers are the bounding box coordinates compressed to be from 0-1, and the last item is the distance to camera.\n",
    "env.close()"
   ]
  },
  {
   "cell_type": "code",
   "execution_count": null,
   "metadata": {},
   "outputs": [],
   "source": [
    "env.close()"
   ]
  }
 ],
 "metadata": {
  "kernelspec": {
   "display_name": "Python 3",
   "language": "python",
   "name": "python3"
  },
  "language_info": {
   "codemirror_mode": {
    "name": "ipython",
    "version": 3
   },
   "file_extension": ".py",
   "mimetype": "text/x-python",
   "name": "python",
   "nbconvert_exporter": "python",
   "pygments_lexer": "ipython3",
   "version": "3.8.19"
  }
 },
 "nbformat": 4,
 "nbformat_minor": 2
}
