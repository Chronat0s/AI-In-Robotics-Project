{
 "cells": [
  {
   "cell_type": "markdown",
   "metadata": {},
   "source": [
    "## Cobot Projectile Obstacle Avoidance\n",
    "Work Items:\n",
    "1. Obstacle generator\n",
    "2. YOLO image segmentation\n",
    "3. Cobot control and DQN"
   ]
  },
  {
   "cell_type": "code",
   "execution_count": 1,
   "metadata": {},
   "outputs": [],
   "source": [
    "import pybullet as p\n",
    "import gym\n",
    "import matplotlib.pyplot as plt\n",
    "import numpy as np\n",
    "import torch\n",
    "import random\n",
    "import cobot_ai4robotics"
   ]
  },
  {
   "cell_type": "code",
   "execution_count": null,
   "metadata": {},
   "outputs": [
    {
     "ename": "error",
     "evalue": "GetBasePositionAndOrientation failed.",
     "output_type": "error",
     "traceback": [
      "\u001b[1;31m---------------------------------------------------------------------------\u001b[0m",
      "\u001b[1;31merror\u001b[0m                                     Traceback (most recent call last)",
      "Cell \u001b[1;32mIn[8], line 4\u001b[0m\n\u001b[0;32m      1\u001b[0m \u001b[38;5;66;03m# Basic code to open the GUI environment window.\u001b[39;00m\n\u001b[0;32m      2\u001b[0m \u001b[38;5;66;03m# https://www.gymlibrary.dev/content/environment_creation/ - make a custom gym environment.\u001b[39;00m\n\u001b[1;32m----> 4\u001b[0m env \u001b[38;5;241m=\u001b[39m \u001b[43mgym\u001b[49m\u001b[38;5;241;43m.\u001b[39;49m\u001b[43mmake\u001b[49m\u001b[43m(\u001b[49m\u001b[38;5;124;43m\"\u001b[39;49m\u001b[38;5;124;43mcobot_ai4robotics\u001b[39;49m\u001b[38;5;124;43m\"\u001b[39;49m\u001b[43m,\u001b[49m\u001b[43m \u001b[49m\u001b[43mapply_api_compatibility\u001b[49m\u001b[38;5;241;43m=\u001b[39;49m\u001b[38;5;28;43;01mTrue\u001b[39;49;00m\u001b[43m,\u001b[49m\u001b[43m \u001b[49m\u001b[43mrenders\u001b[49m\u001b[38;5;241;43m=\u001b[39;49m\u001b[38;5;28;43;01mFalse\u001b[39;49;00m\u001b[43m,\u001b[49m\u001b[43m \u001b[49m\u001b[43misDiscrete\u001b[49m\u001b[38;5;241;43m=\u001b[39;49m\u001b[38;5;28;43;01mFalse\u001b[39;49;00m\u001b[43m)\u001b[49m\n\u001b[0;32m      5\u001b[0m env\u001b[38;5;241m.\u001b[39mreset()\n\u001b[0;32m      7\u001b[0m \u001b[38;5;66;03m# Modify joint control so that it is a change to the current joint position, not specifying a joint position.\u001b[39;00m\n",
      "File \u001b[1;32mc:\\Users\\mvsue\\miniconda3\\envs\\Ai4Robotics_FinalProject\\lib\\site-packages\\gym\\envs\\registration.py:640\u001b[0m, in \u001b[0;36mmake\u001b[1;34m(id, max_episode_steps, autoreset, apply_api_compatibility, disable_env_checker, **kwargs)\u001b[0m\n\u001b[0;32m    637\u001b[0m     render_mode \u001b[38;5;241m=\u001b[39m \u001b[38;5;28;01mNone\u001b[39;00m\n\u001b[0;32m    639\u001b[0m \u001b[38;5;28;01mtry\u001b[39;00m:\n\u001b[1;32m--> 640\u001b[0m     env \u001b[38;5;241m=\u001b[39m \u001b[43menv_creator\u001b[49m\u001b[43m(\u001b[49m\u001b[38;5;241;43m*\u001b[39;49m\u001b[38;5;241;43m*\u001b[39;49m\u001b[43m_kwargs\u001b[49m\u001b[43m)\u001b[49m\n\u001b[0;32m    641\u001b[0m \u001b[38;5;28;01mexcept\u001b[39;00m \u001b[38;5;167;01mTypeError\u001b[39;00m \u001b[38;5;28;01mas\u001b[39;00m e:\n\u001b[0;32m    642\u001b[0m     \u001b[38;5;28;01mif\u001b[39;00m (\n\u001b[0;32m    643\u001b[0m         \u001b[38;5;28mstr\u001b[39m(e)\u001b[38;5;241m.\u001b[39mfind(\u001b[38;5;124m\"\u001b[39m\u001b[38;5;124mgot an unexpected keyword argument \u001b[39m\u001b[38;5;124m'\u001b[39m\u001b[38;5;124mrender_mode\u001b[39m\u001b[38;5;124m'\u001b[39m\u001b[38;5;124m\"\u001b[39m) \u001b[38;5;241m>\u001b[39m\u001b[38;5;241m=\u001b[39m \u001b[38;5;241m0\u001b[39m\n\u001b[0;32m    644\u001b[0m         \u001b[38;5;129;01mand\u001b[39;00m apply_human_rendering\n\u001b[0;32m    645\u001b[0m     ):\n",
      "File \u001b[1;32mc:\\Users\\mvsue\\miniconda3\\envs\\Ai4Robotics_FinalProject\\lib\\site-packages\\cobot_ai4robotics-0.1-py3.8.egg\\cobot_ai4robotics\\envs\\cobot_ai4robotics_env.py:79\u001b[0m, in \u001b[0;36mCobotAI4RoboticsEnv.__init__\u001b[1;34m(self, isDiscrete, renders)\u001b[0m\n\u001b[0;32m     76\u001b[0m \u001b[38;5;66;03m# Load the YOLO model.\u001b[39;00m\n\u001b[0;32m     77\u001b[0m \u001b[38;5;28mself\u001b[39m\u001b[38;5;241m.\u001b[39mYOLO \u001b[38;5;241m=\u001b[39m YOLO(\u001b[38;5;124m\"\u001b[39m\u001b[38;5;124m./runs/detect/train4/weights/best.pt\u001b[39m\u001b[38;5;124m\"\u001b[39m)\n\u001b[1;32m---> 79\u001b[0m \u001b[38;5;28;43mself\u001b[39;49m\u001b[38;5;241;43m.\u001b[39;49m\u001b[43mreset\u001b[49m\u001b[43m(\u001b[49m\u001b[43m)\u001b[49m\n",
      "File \u001b[1;32mc:\\Users\\mvsue\\miniconda3\\envs\\Ai4Robotics_FinalProject\\lib\\site-packages\\cobot_ai4robotics-0.1-py3.8.egg\\cobot_ai4robotics\\envs\\cobot_ai4robotics_env.py:139\u001b[0m, in \u001b[0;36mCobotAI4RoboticsEnv.reset\u001b[1;34m(self)\u001b[0m\n\u001b[0;32m    135\u001b[0m \u001b[38;5;28mself\u001b[39m\u001b[38;5;241m.\u001b[39mcobot \u001b[38;5;241m=\u001b[39m Kuka(urdfRootPath\u001b[38;5;241m=\u001b[39m\u001b[38;5;28mself\u001b[39m\u001b[38;5;241m.\u001b[39murdfRootPath, base_position\u001b[38;5;241m=\u001b[39m[\u001b[38;5;241m0\u001b[39m,\u001b[38;5;241m0\u001b[39m,\u001b[38;5;28mself\u001b[39m\u001b[38;5;241m.\u001b[39m_h_table])\n\u001b[0;32m    136\u001b[0m \u001b[38;5;66;03m# print(self.cobot._base_position)\u001b[39;00m\n\u001b[0;32m    137\u001b[0m \n\u001b[0;32m    138\u001b[0m \u001b[38;5;66;03m# Set up camera\u001b[39;00m\n\u001b[1;32m--> 139\u001b[0m \u001b[38;5;28;43mself\u001b[39;49m\u001b[38;5;241;43m.\u001b[39;49m\u001b[43mrender\u001b[49m\u001b[43m(\u001b[49m\u001b[43m)\u001b[49m\n\u001b[0;32m    140\u001b[0m \u001b[38;5;28mself\u001b[39m\u001b[38;5;241m.\u001b[39mcurrent_frame \u001b[38;5;241m=\u001b[39m \u001b[38;5;28mself\u001b[39m\u001b[38;5;241m.\u001b[39mrefreshImage()\n\u001b[0;32m    142\u001b[0m \u001b[38;5;28mself\u001b[39m\u001b[38;5;241m.\u001b[39mold_projectile \u001b[38;5;241m=\u001b[39m [\u001b[38;5;241m-\u001b[39m\u001b[38;5;241m1\u001b[39m,\u001b[38;5;241m-\u001b[39m\u001b[38;5;241m1\u001b[39m,\u001b[38;5;241m-\u001b[39m\u001b[38;5;241m1\u001b[39m,\u001b[38;5;241m-\u001b[39m\u001b[38;5;241m1\u001b[39m,\u001b[38;5;241m-\u001b[39m\u001b[38;5;241m1\u001b[39m]\n",
      "File \u001b[1;32mc:\\Users\\mvsue\\miniconda3\\envs\\Ai4Robotics_FinalProject\\lib\\site-packages\\cobot_ai4robotics-0.1-py3.8.egg\\cobot_ai4robotics\\envs\\cobot_ai4robotics_env.py:237\u001b[0m, in \u001b[0;36mCobotAI4RoboticsEnv.render\u001b[1;34m(self, mode, close)\u001b[0m\n\u001b[0;32m    234\u001b[0m \u001b[38;5;28;01mif\u001b[39;00m mode \u001b[38;5;241m!=\u001b[39m \u001b[38;5;124m\"\u001b[39m\u001b[38;5;124mrgb_array\u001b[39m\u001b[38;5;124m\"\u001b[39m:\n\u001b[0;32m    235\u001b[0m     \u001b[38;5;28;01mreturn\u001b[39;00m np\u001b[38;5;241m.\u001b[39marray([])\n\u001b[1;32m--> 237\u001b[0m base_pos, orn \u001b[38;5;241m=\u001b[39m \u001b[38;5;28;43mself\u001b[39;49m\u001b[38;5;241;43m.\u001b[39;49m\u001b[43m_p\u001b[49m\u001b[38;5;241;43m.\u001b[39;49m\u001b[43mgetBasePositionAndOrientation\u001b[49m\u001b[43m(\u001b[49m\u001b[38;5;28;43mself\u001b[39;49m\u001b[38;5;241;43m.\u001b[39;49m\u001b[43mcobot\u001b[49m\u001b[38;5;241;43m.\u001b[39;49m\u001b[43mkukaUid\u001b[49m\u001b[43m)\u001b[49m \u001b[38;5;66;03m# .kukaUid gives the base pos and orn.\u001b[39;00m\n\u001b[0;32m    238\u001b[0m \u001b[38;5;28mself\u001b[39m\u001b[38;5;241m.\u001b[39mview_matrix \u001b[38;5;241m=\u001b[39m \u001b[38;5;28mself\u001b[39m\u001b[38;5;241m.\u001b[39m_p\u001b[38;5;241m.\u001b[39mcomputeViewMatrixFromYawPitchRoll(cameraTargetPosition\u001b[38;5;241m=\u001b[39m[base_pos[\u001b[38;5;241m0\u001b[39m]\u001b[38;5;241m+\u001b[39m\u001b[38;5;241m5\u001b[39m,\u001b[38;5;241m0\u001b[39m,\u001b[38;5;28mself\u001b[39m\u001b[38;5;241m.\u001b[39m_h_table\u001b[38;5;241m+\u001b[39m\u001b[38;5;241m0.5\u001b[39m],\n\u001b[0;32m    239\u001b[0m                                                         distance\u001b[38;5;241m=\u001b[39m\u001b[38;5;28mself\u001b[39m\u001b[38;5;241m.\u001b[39m_cam_dist,\n\u001b[0;32m    240\u001b[0m                                                         yaw\u001b[38;5;241m=\u001b[39m\u001b[38;5;28mself\u001b[39m\u001b[38;5;241m.\u001b[39m_cam_yaw,\n\u001b[0;32m    241\u001b[0m                                                         pitch\u001b[38;5;241m=\u001b[39m\u001b[38;5;28mself\u001b[39m\u001b[38;5;241m.\u001b[39m_cam_pitch,\n\u001b[0;32m    242\u001b[0m                                                         roll\u001b[38;5;241m=\u001b[39m\u001b[38;5;241m0\u001b[39m,\n\u001b[0;32m    243\u001b[0m                                                         upAxisIndex\u001b[38;5;241m=\u001b[39m\u001b[38;5;241m2\u001b[39m)\n\u001b[0;32m    244\u001b[0m \u001b[38;5;28mself\u001b[39m\u001b[38;5;241m.\u001b[39mproj_matrix \u001b[38;5;241m=\u001b[39m \u001b[38;5;28mself\u001b[39m\u001b[38;5;241m.\u001b[39m_p\u001b[38;5;241m.\u001b[39mcomputeProjectionMatrixFOV(fov\u001b[38;5;241m=\u001b[39m\u001b[38;5;241m60\u001b[39m,\n\u001b[0;32m    245\u001b[0m                                                 aspect\u001b[38;5;241m=\u001b[39m\u001b[38;5;28mfloat\u001b[39m(RENDER_WIDTH) \u001b[38;5;241m/\u001b[39m RENDER_HEIGHT,\n\u001b[0;32m    246\u001b[0m                                                 nearVal\u001b[38;5;241m=\u001b[39m\u001b[38;5;241m0.1\u001b[39m,\n\u001b[0;32m    247\u001b[0m                                                 farVal\u001b[38;5;241m=\u001b[39m\u001b[38;5;241m100\u001b[39m)\n",
      "\u001b[1;31merror\u001b[0m: GetBasePositionAndOrientation failed."
     ]
    }
   ],
   "source": [
    "# Basic code to open the GUI environment window.\n",
    "# https://www.gymlibrary.dev/content/environment_creation/ - make a custom gym environment.\n",
    "\n",
    "env = gym.make(\"cobot_ai4robotics\", apply_api_compatibility=True, renders=False, isDiscrete=False)\n",
    "env.reset()\n",
    "\n",
    "# Modify joint control so that it is a change to the current joint position, not specifying a joint position.\n",
    "origin = np.array([0,0,0,0,0,0,0])\n",
    "while True:\n",
    "    ob, reward, done, _, info = env.step(env.action_space.sample()) # Things will not move unless you call env.step.\n",
    "    if done:\n",
    "        break\n",
    "    # print(ob)\n",
    "    # print(env.action_space.sample())\n",
    "    # First 7 items in ob are the pose (or they're meant to be, they seem dodgy?). The next 4 numbers are the bounding box coordinates compressed to be from 0-1, and the last item is the distance to camera.\n",
    "env.close()"
   ]
  },
  {
   "cell_type": "code",
   "execution_count": null,
   "metadata": {},
   "outputs": [],
   "source": [
    "env.close()"
   ]
  }
 ],
 "metadata": {
  "kernelspec": {
   "display_name": "Python 3",
   "language": "python",
   "name": "python3"
  },
  "language_info": {
   "codemirror_mode": {
    "name": "ipython",
    "version": 3
   },
   "file_extension": ".py",
   "mimetype": "text/x-python",
   "name": "python",
   "nbconvert_exporter": "python",
   "pygments_lexer": "ipython3",
   "version": "3.8.19"
  }
 },
 "nbformat": 4,
 "nbformat_minor": 2
}
