{
 "cells": [
  {
   "cell_type": "markdown",
   "metadata": {},
   "source": [
    "## Cobot Projectile Obstacle Avoidance\n",
    "Work Items:\n",
    "1. Obstacle generator\n",
    "2. YOLO image segmentation\n",
    "3. Cobot control and DQN"
   ]
  },
  {
   "cell_type": "code",
   "execution_count": 1,
   "metadata": {},
   "outputs": [],
   "source": [
    "import pybullet as p\n",
    "import gym\n",
    "import matplotlib.pyplot as plt\n",
    "import numpy as np\n",
    "import torch\n",
    "import random\n",
    "import cobot_ai4robotics"
   ]
  },
  {
   "cell_type": "code",
   "execution_count": 2,
   "metadata": {},
   "outputs": [],
   "source": [
    "# Basic code to open the GUI environment window.\n",
    "# https://www.gymlibrary.dev/content/environment_creation/ - make a custom gym environment.\n",
    "\n",
    "env = gym.make(\"cobot_ai4robotics\", apply_api_compatibility=True, renders=True, isDiscrete=False)\n",
    "env.reset()\n",
    "while True:\n",
    "    ob, reward, done, _, info = env.step(env.action_space.sample()) # Things will not move unless you call env.step.\n",
    "    if done:\n",
    "        break\n",
    "env.close()"
   ]
  }
 ],
 "metadata": {
  "kernelspec": {
   "display_name": "Python 3",
   "language": "python",
   "name": "python3"
  },
  "language_info": {
   "codemirror_mode": {
    "name": "ipython",
    "version": 3
   },
   "file_extension": ".py",
   "mimetype": "text/x-python",
   "name": "python",
   "nbconvert_exporter": "python",
   "pygments_lexer": "ipython3",
   "version": "3.8.19"
  }
 },
 "nbformat": 4,
 "nbformat_minor": 2
}
