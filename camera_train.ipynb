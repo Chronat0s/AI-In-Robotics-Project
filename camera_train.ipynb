{
 "cells": [
  {
   "cell_type": "markdown",
   "metadata": {},
   "source": [
    "## Training for Tennis Ball Camera Model\n",
    "If you need to download the required dataset, run the first section. WARNING: the downloaded files are large (2.24GB)!"
   ]
  },
  {
   "cell_type": "markdown",
   "metadata": {},
   "source": [
    "#### Download Dataset\n",
    "From: https://storage.googleapis.com/openimages/web/index.html \n",
    "\n",
    "Download instructions: https://storage.googleapis.com/openimages/web/download_v7.html#download-manually\n",
    "\n",
    "FiftyOne: https://docs.voxel51.com/user_guide/dataset_zoo/index.html\n",
    "\n",
    "Visualisation: https://storage.googleapis.com/openimages/web/visualizer/index.html?type=detection&set=train&c=%2Fm%2F05ctyq\n"
   ]
  },
  {
   "cell_type": "code",
   "execution_count": 1,
   "metadata": {},
   "outputs": [
    {
     "name": "stdout",
     "output_type": "stream",
     "text": [
      "Requirement already satisfied: ultralytics in c:\\users\\mvsue\\miniconda3\\envs\\ai4robotics_finalproject\\lib\\site-packages (8.2.10)\n",
      "Requirement already satisfied: matplotlib>=3.3.0 in c:\\users\\mvsue\\miniconda3\\envs\\ai4robotics_finalproject\\lib\\site-packages (from ultralytics) (3.7.5)\n",
      "Requirement already satisfied: opencv-python>=4.6.0 in c:\\users\\mvsue\\miniconda3\\envs\\ai4robotics_finalproject\\lib\\site-packages (from ultralytics) (4.9.0.80)\n",
      "Requirement already satisfied: pillow>=7.1.2 in c:\\users\\mvsue\\miniconda3\\envs\\ai4robotics_finalproject\\lib\\site-packages (from ultralytics) (10.3.0)\n",
      "Requirement already satisfied: pyyaml>=5.3.1 in c:\\users\\mvsue\\miniconda3\\envs\\ai4robotics_finalproject\\lib\\site-packages (from ultralytics) (6.0.1)\n",
      "Requirement already satisfied: requests>=2.23.0 in c:\\users\\mvsue\\miniconda3\\envs\\ai4robotics_finalproject\\lib\\site-packages (from ultralytics) (2.31.0)\n",
      "Requirement already satisfied: scipy>=1.4.1 in c:\\users\\mvsue\\miniconda3\\envs\\ai4robotics_finalproject\\lib\\site-packages (from ultralytics) (1.10.1)\n",
      "Requirement already satisfied: torch>=1.8.0 in c:\\users\\mvsue\\miniconda3\\envs\\ai4robotics_finalproject\\lib\\site-packages (from ultralytics) (2.3.0)\n",
      "Requirement already satisfied: torchvision>=0.9.0 in c:\\users\\mvsue\\miniconda3\\envs\\ai4robotics_finalproject\\lib\\site-packages (from ultralytics) (0.18.0)\n",
      "Requirement already satisfied: tqdm>=4.64.0 in c:\\users\\mvsue\\appdata\\roaming\\python\\python38\\site-packages (from ultralytics) (4.66.4)\n",
      "Requirement already satisfied: psutil in c:\\users\\mvsue\\miniconda3\\envs\\ai4robotics_finalproject\\lib\\site-packages (from ultralytics) (5.9.0)\n",
      "Requirement already satisfied: py-cpuinfo in c:\\users\\mvsue\\miniconda3\\envs\\ai4robotics_finalproject\\lib\\site-packages (from ultralytics) (9.0.0)\n",
      "Requirement already satisfied: thop>=0.1.1 in c:\\users\\mvsue\\miniconda3\\envs\\ai4robotics_finalproject\\lib\\site-packages (from ultralytics) (0.1.1.post2209072238)\n",
      "Requirement already satisfied: pandas>=1.1.4 in c:\\users\\mvsue\\miniconda3\\envs\\ai4robotics_finalproject\\lib\\site-packages (from ultralytics) (2.0.3)\n",
      "Requirement already satisfied: seaborn>=0.11.0 in c:\\users\\mvsue\\miniconda3\\envs\\ai4robotics_finalproject\\lib\\site-packages (from ultralytics) (0.13.2)\n",
      "Requirement already satisfied: contourpy>=1.0.1 in c:\\users\\mvsue\\miniconda3\\envs\\ai4robotics_finalproject\\lib\\site-packages (from matplotlib>=3.3.0->ultralytics) (1.1.1)\n",
      "Requirement already satisfied: cycler>=0.10 in c:\\users\\mvsue\\miniconda3\\envs\\ai4robotics_finalproject\\lib\\site-packages (from matplotlib>=3.3.0->ultralytics) (0.12.1)\n",
      "Requirement already satisfied: fonttools>=4.22.0 in c:\\users\\mvsue\\miniconda3\\envs\\ai4robotics_finalproject\\lib\\site-packages (from matplotlib>=3.3.0->ultralytics) (4.51.0)\n",
      "Requirement already satisfied: kiwisolver>=1.0.1 in c:\\users\\mvsue\\miniconda3\\envs\\ai4robotics_finalproject\\lib\\site-packages (from matplotlib>=3.3.0->ultralytics) (1.4.5)\n",
      "Requirement already satisfied: numpy<2,>=1.20 in c:\\users\\mvsue\\miniconda3\\envs\\ai4robotics_finalproject\\lib\\site-packages (from matplotlib>=3.3.0->ultralytics) (1.24.4)\n",
      "Requirement already satisfied: packaging>=20.0 in c:\\users\\mvsue\\miniconda3\\envs\\ai4robotics_finalproject\\lib\\site-packages (from matplotlib>=3.3.0->ultralytics) (24.0)\n",
      "Requirement already satisfied: pyparsing>=2.3.1 in c:\\users\\mvsue\\miniconda3\\envs\\ai4robotics_finalproject\\lib\\site-packages (from matplotlib>=3.3.0->ultralytics) (3.1.2)\n",
      "Requirement already satisfied: python-dateutil>=2.7 in c:\\users\\mvsue\\miniconda3\\envs\\ai4robotics_finalproject\\lib\\site-packages (from matplotlib>=3.3.0->ultralytics) (2.9.0)\n",
      "Requirement already satisfied: importlib-resources>=3.2.0 in c:\\users\\mvsue\\miniconda3\\envs\\ai4robotics_finalproject\\lib\\site-packages (from matplotlib>=3.3.0->ultralytics) (6.4.0)\n",
      "Requirement already satisfied: pytz>=2020.1 in c:\\users\\mvsue\\miniconda3\\envs\\ai4robotics_finalproject\\lib\\site-packages (from pandas>=1.1.4->ultralytics) (2024.1)\n",
      "Requirement already satisfied: tzdata>=2022.1 in c:\\users\\mvsue\\miniconda3\\envs\\ai4robotics_finalproject\\lib\\site-packages (from pandas>=1.1.4->ultralytics) (2024.1)\n",
      "Requirement already satisfied: charset-normalizer<4,>=2 in c:\\users\\mvsue\\miniconda3\\envs\\ai4robotics_finalproject\\lib\\site-packages (from requests>=2.23.0->ultralytics) (3.3.2)\n",
      "Requirement already satisfied: idna<4,>=2.5 in c:\\users\\mvsue\\miniconda3\\envs\\ai4robotics_finalproject\\lib\\site-packages (from requests>=2.23.0->ultralytics) (3.7)\n",
      "Requirement already satisfied: urllib3<3,>=1.21.1 in c:\\users\\mvsue\\miniconda3\\envs\\ai4robotics_finalproject\\lib\\site-packages (from requests>=2.23.0->ultralytics) (1.26.18)\n",
      "Requirement already satisfied: certifi>=2017.4.17 in c:\\users\\mvsue\\miniconda3\\envs\\ai4robotics_finalproject\\lib\\site-packages (from requests>=2.23.0->ultralytics) (2024.2.2)\n",
      "Requirement already satisfied: filelock in c:\\users\\mvsue\\miniconda3\\envs\\ai4robotics_finalproject\\lib\\site-packages (from torch>=1.8.0->ultralytics) (3.14.0)\n",
      "Requirement already satisfied: typing-extensions>=4.8.0 in c:\\users\\mvsue\\miniconda3\\envs\\ai4robotics_finalproject\\lib\\site-packages (from torch>=1.8.0->ultralytics) (4.11.0)\n",
      "Requirement already satisfied: sympy in c:\\users\\mvsue\\miniconda3\\envs\\ai4robotics_finalproject\\lib\\site-packages (from torch>=1.8.0->ultralytics) (1.12)\n",
      "Requirement already satisfied: networkx in c:\\users\\mvsue\\miniconda3\\envs\\ai4robotics_finalproject\\lib\\site-packages (from torch>=1.8.0->ultralytics) (3.1)\n",
      "Requirement already satisfied: jinja2 in c:\\users\\mvsue\\miniconda3\\envs\\ai4robotics_finalproject\\lib\\site-packages (from torch>=1.8.0->ultralytics) (3.1.3)\n",
      "Requirement already satisfied: fsspec in c:\\users\\mvsue\\miniconda3\\envs\\ai4robotics_finalproject\\lib\\site-packages (from torch>=1.8.0->ultralytics) (2024.3.1)\n",
      "Requirement already satisfied: mkl<=2021.4.0,>=2021.1.1 in c:\\users\\mvsue\\miniconda3\\envs\\ai4robotics_finalproject\\lib\\site-packages (from torch>=1.8.0->ultralytics) (2021.4.0)\n",
      "Requirement already satisfied: colorama in c:\\users\\mvsue\\miniconda3\\envs\\ai4robotics_finalproject\\lib\\site-packages (from tqdm>=4.64.0->ultralytics) (0.4.6)\n",
      "Requirement already satisfied: zipp>=3.1.0 in c:\\users\\mvsue\\miniconda3\\envs\\ai4robotics_finalproject\\lib\\site-packages (from importlib-resources>=3.2.0->matplotlib>=3.3.0->ultralytics) (3.18.1)\n",
      "Requirement already satisfied: intel-openmp==2021.* in c:\\users\\mvsue\\miniconda3\\envs\\ai4robotics_finalproject\\lib\\site-packages (from mkl<=2021.4.0,>=2021.1.1->torch>=1.8.0->ultralytics) (2021.4.0)\n",
      "Requirement already satisfied: tbb==2021.* in c:\\users\\mvsue\\miniconda3\\envs\\ai4robotics_finalproject\\lib\\site-packages (from mkl<=2021.4.0,>=2021.1.1->torch>=1.8.0->ultralytics) (2021.12.0)\n",
      "Requirement already satisfied: six>=1.5 in c:\\users\\mvsue\\miniconda3\\envs\\ai4robotics_finalproject\\lib\\site-packages (from python-dateutil>=2.7->matplotlib>=3.3.0->ultralytics) (1.16.0)\n",
      "Requirement already satisfied: MarkupSafe>=2.0 in c:\\users\\mvsue\\miniconda3\\envs\\ai4robotics_finalproject\\lib\\site-packages (from jinja2->torch>=1.8.0->ultralytics) (2.1.5)\n",
      "Requirement already satisfied: mpmath>=0.19 in c:\\users\\mvsue\\miniconda3\\envs\\ai4robotics_finalproject\\lib\\site-packages (from sympy->torch>=1.8.0->ultralytics) (1.3.0)\n",
      "Note: you may need to restart the kernel to use updated packages.\n",
      "Requirement already satisfied: fiftyone in c:\\users\\mvsue\\miniconda3\\envs\\ai4robotics_finalproject\\lib\\site-packages (0.23.8)\n",
      "Requirement already satisfied: aiofiles in c:\\users\\mvsue\\miniconda3\\envs\\ai4robotics_finalproject\\lib\\site-packages (from fiftyone) (23.2.1)\n",
      "Requirement already satisfied: argcomplete in c:\\users\\mvsue\\miniconda3\\envs\\ai4robotics_finalproject\\lib\\site-packages (from fiftyone) (3.3.0)\n",
      "Requirement already satisfied: beautifulsoup4 in c:\\users\\mvsue\\miniconda3\\envs\\ai4robotics_finalproject\\lib\\site-packages (from fiftyone) (4.12.3)\n",
      "Requirement already satisfied: boto3 in c:\\users\\mvsue\\miniconda3\\envs\\ai4robotics_finalproject\\lib\\site-packages (from fiftyone) (1.34.99)\n",
      "Requirement already satisfied: cachetools in c:\\users\\mvsue\\miniconda3\\envs\\ai4robotics_finalproject\\lib\\site-packages (from fiftyone) (5.3.3)\n",
      "Requirement already satisfied: dacite<1.8.0,>=1.6.0 in c:\\users\\mvsue\\miniconda3\\envs\\ai4robotics_finalproject\\lib\\site-packages (from fiftyone) (1.7.0)\n",
      "Requirement already satisfied: Deprecated in c:\\users\\mvsue\\miniconda3\\envs\\ai4robotics_finalproject\\lib\\site-packages (from fiftyone) (1.2.14)\n",
      "Requirement already satisfied: ftfy in c:\\users\\mvsue\\miniconda3\\envs\\ai4robotics_finalproject\\lib\\site-packages (from fiftyone) (6.2.0)\n",
      "Requirement already satisfied: humanize in c:\\users\\mvsue\\miniconda3\\envs\\ai4robotics_finalproject\\lib\\site-packages (from fiftyone) (4.9.0)\n",
      "Requirement already satisfied: hypercorn>=0.13.2 in c:\\users\\mvsue\\miniconda3\\envs\\ai4robotics_finalproject\\lib\\site-packages (from fiftyone) (0.16.0)\n",
      "Requirement already satisfied: Jinja2>=3 in c:\\users\\mvsue\\miniconda3\\envs\\ai4robotics_finalproject\\lib\\site-packages (from fiftyone) (3.1.3)\n",
      "Requirement already satisfied: kaleido!=0.2.1.post1 in c:\\users\\mvsue\\miniconda3\\envs\\ai4robotics_finalproject\\lib\\site-packages (from fiftyone) (0.2.1)\n",
      "Requirement already satisfied: matplotlib in c:\\users\\mvsue\\miniconda3\\envs\\ai4robotics_finalproject\\lib\\site-packages (from fiftyone) (3.7.5)\n",
      "Requirement already satisfied: mongoengine==0.24.2 in c:\\users\\mvsue\\miniconda3\\envs\\ai4robotics_finalproject\\lib\\site-packages (from fiftyone) (0.24.2)\n",
      "Requirement already satisfied: motor>=2.5 in c:\\users\\mvsue\\miniconda3\\envs\\ai4robotics_finalproject\\lib\\site-packages (from fiftyone) (3.4.0)\n",
      "Requirement already satisfied: numpy in c:\\users\\mvsue\\miniconda3\\envs\\ai4robotics_finalproject\\lib\\site-packages (from fiftyone) (1.24.4)\n",
      "Requirement already satisfied: packaging in c:\\users\\mvsue\\miniconda3\\envs\\ai4robotics_finalproject\\lib\\site-packages (from fiftyone) (24.0)\n",
      "Requirement already satisfied: pandas in c:\\users\\mvsue\\miniconda3\\envs\\ai4robotics_finalproject\\lib\\site-packages (from fiftyone) (2.0.3)\n",
      "Requirement already satisfied: Pillow>=6.2 in c:\\users\\mvsue\\miniconda3\\envs\\ai4robotics_finalproject\\lib\\site-packages (from fiftyone) (10.3.0)\n",
      "Requirement already satisfied: plotly>=4.14 in c:\\users\\mvsue\\miniconda3\\envs\\ai4robotics_finalproject\\lib\\site-packages (from fiftyone) (5.22.0)\n",
      "Requirement already satisfied: pprintpp in c:\\users\\mvsue\\miniconda3\\envs\\ai4robotics_finalproject\\lib\\site-packages (from fiftyone) (0.4.0)\n",
      "Requirement already satisfied: psutil in c:\\users\\mvsue\\miniconda3\\envs\\ai4robotics_finalproject\\lib\\site-packages (from fiftyone) (5.9.0)\n",
      "Requirement already satisfied: pymongo>=3.12 in c:\\users\\mvsue\\miniconda3\\envs\\ai4robotics_finalproject\\lib\\site-packages (from fiftyone) (4.7.1)\n",
      "Requirement already satisfied: pytz in c:\\users\\mvsue\\miniconda3\\envs\\ai4robotics_finalproject\\lib\\site-packages (from fiftyone) (2024.1)\n",
      "Requirement already satisfied: PyYAML in c:\\users\\mvsue\\miniconda3\\envs\\ai4robotics_finalproject\\lib\\site-packages (from fiftyone) (6.0.1)\n",
      "Requirement already satisfied: regex in c:\\users\\mvsue\\miniconda3\\envs\\ai4robotics_finalproject\\lib\\site-packages (from fiftyone) (2024.4.28)\n",
      "Requirement already satisfied: retrying in c:\\users\\mvsue\\miniconda3\\envs\\ai4robotics_finalproject\\lib\\site-packages (from fiftyone) (1.3.4)\n",
      "Requirement already satisfied: scikit-learn in c:\\users\\mvsue\\miniconda3\\envs\\ai4robotics_finalproject\\lib\\site-packages (from fiftyone) (1.3.2)\n",
      "Requirement already satisfied: scikit-image in c:\\users\\mvsue\\miniconda3\\envs\\ai4robotics_finalproject\\lib\\site-packages (from fiftyone) (0.21.0)\n",
      "Requirement already satisfied: scipy in c:\\users\\mvsue\\miniconda3\\envs\\ai4robotics_finalproject\\lib\\site-packages (from fiftyone) (1.10.1)\n",
      "Requirement already satisfied: setuptools in c:\\users\\mvsue\\miniconda3\\envs\\ai4robotics_finalproject\\lib\\site-packages (from fiftyone) (69.5.1)\n",
      "Requirement already satisfied: sseclient-py<2,>=1.7.2 in c:\\users\\mvsue\\miniconda3\\envs\\ai4robotics_finalproject\\lib\\site-packages (from fiftyone) (1.8.0)\n",
      "Requirement already satisfied: sse-starlette<1,>=0.10.3 in c:\\users\\mvsue\\miniconda3\\envs\\ai4robotics_finalproject\\lib\\site-packages (from fiftyone) (0.10.3)\n",
      "Requirement already satisfied: starlette>=0.24.0 in c:\\users\\mvsue\\miniconda3\\envs\\ai4robotics_finalproject\\lib\\site-packages (from fiftyone) (0.37.2)\n",
      "Requirement already satisfied: strawberry-graphql==0.138.1 in c:\\users\\mvsue\\miniconda3\\envs\\ai4robotics_finalproject\\lib\\site-packages (from fiftyone) (0.138.1)\n",
      "Requirement already satisfied: tabulate in c:\\users\\mvsue\\miniconda3\\envs\\ai4robotics_finalproject\\lib\\site-packages (from fiftyone) (0.9.0)\n",
      "Requirement already satisfied: xmltodict in c:\\users\\mvsue\\miniconda3\\envs\\ai4robotics_finalproject\\lib\\site-packages (from fiftyone) (0.13.0)\n",
      "Requirement already satisfied: universal-analytics-python3<2,>=1.0.1 in c:\\users\\mvsue\\miniconda3\\envs\\ai4robotics_finalproject\\lib\\site-packages (from fiftyone) (1.1.1)\n",
      "Requirement already satisfied: fiftyone-brain<0.17,>=0.16.1 in c:\\users\\mvsue\\miniconda3\\envs\\ai4robotics_finalproject\\lib\\site-packages (from fiftyone) (0.16.1)\n",
      "Requirement already satisfied: fiftyone-db<2.0,>=0.4 in c:\\users\\mvsue\\miniconda3\\envs\\ai4robotics_finalproject\\lib\\site-packages (from fiftyone) (1.1.2)\n",
      "Requirement already satisfied: voxel51-eta<0.13,>=0.12.6 in c:\\users\\mvsue\\miniconda3\\envs\\ai4robotics_finalproject\\lib\\site-packages (from fiftyone) (0.12.6)\n",
      "Requirement already satisfied: opencv-python-headless in c:\\users\\mvsue\\miniconda3\\envs\\ai4robotics_finalproject\\lib\\site-packages (from fiftyone) (4.9.0.80)\n",
      "Requirement already satisfied: graphql-core<3.3.0,>=3.2.0 in c:\\users\\mvsue\\miniconda3\\envs\\ai4robotics_finalproject\\lib\\site-packages (from strawberry-graphql==0.138.1->fiftyone) (3.2.3)\n",
      "Requirement already satisfied: python-dateutil<3.0.0,>=2.7.0 in c:\\users\\mvsue\\miniconda3\\envs\\ai4robotics_finalproject\\lib\\site-packages (from strawberry-graphql==0.138.1->fiftyone) (2.9.0)\n",
      "Requirement already satisfied: typing_extensions<5.0.0,>=3.7.4 in c:\\users\\mvsue\\miniconda3\\envs\\ai4robotics_finalproject\\lib\\site-packages (from strawberry-graphql==0.138.1->fiftyone) (4.11.0)\n",
      "Requirement already satisfied: h11 in c:\\users\\mvsue\\miniconda3\\envs\\ai4robotics_finalproject\\lib\\site-packages (from hypercorn>=0.13.2->fiftyone) (0.14.0)\n",
      "Requirement already satisfied: h2>=3.1.0 in c:\\users\\mvsue\\miniconda3\\envs\\ai4robotics_finalproject\\lib\\site-packages (from hypercorn>=0.13.2->fiftyone) (4.1.0)\n",
      "Requirement already satisfied: priority in c:\\users\\mvsue\\miniconda3\\envs\\ai4robotics_finalproject\\lib\\site-packages (from hypercorn>=0.13.2->fiftyone) (2.0.0)\n",
      "Requirement already satisfied: taskgroup in c:\\users\\mvsue\\miniconda3\\envs\\ai4robotics_finalproject\\lib\\site-packages (from hypercorn>=0.13.2->fiftyone) (0.0.0a4)\n",
      "Requirement already satisfied: tomli in c:\\users\\mvsue\\miniconda3\\envs\\ai4robotics_finalproject\\lib\\site-packages (from hypercorn>=0.13.2->fiftyone) (2.0.1)\n",
      "Requirement already satisfied: wsproto>=0.14.0 in c:\\users\\mvsue\\miniconda3\\envs\\ai4robotics_finalproject\\lib\\site-packages (from hypercorn>=0.13.2->fiftyone) (1.2.0)\n",
      "Requirement already satisfied: MarkupSafe>=2.0 in c:\\users\\mvsue\\miniconda3\\envs\\ai4robotics_finalproject\\lib\\site-packages (from Jinja2>=3->fiftyone) (2.1.5)\n",
      "Requirement already satisfied: tenacity>=6.2.0 in c:\\users\\mvsue\\miniconda3\\envs\\ai4robotics_finalproject\\lib\\site-packages (from plotly>=4.14->fiftyone) (8.3.0)\n",
      "Requirement already satisfied: dnspython<3.0.0,>=1.16.0 in c:\\users\\mvsue\\miniconda3\\envs\\ai4robotics_finalproject\\lib\\site-packages (from pymongo>=3.12->fiftyone) (2.6.1)\n",
      "Requirement already satisfied: anyio<5,>=3.4.0 in c:\\users\\mvsue\\miniconda3\\envs\\ai4robotics_finalproject\\lib\\site-packages (from starlette>=0.24.0->fiftyone) (4.3.0)\n",
      "Requirement already satisfied: httpx>=0.10.0 in c:\\users\\mvsue\\miniconda3\\envs\\ai4robotics_finalproject\\lib\\site-packages (from universal-analytics-python3<2,>=1.0.1->fiftyone) (0.27.0)\n",
      "Requirement already satisfied: dill in c:\\users\\mvsue\\miniconda3\\envs\\ai4robotics_finalproject\\lib\\site-packages (from voxel51-eta<0.13,>=0.12.6->fiftyone) (0.3.8)\n",
      "Requirement already satisfied: future in c:\\users\\mvsue\\miniconda3\\envs\\ai4robotics_finalproject\\lib\\site-packages (from voxel51-eta<0.13,>=0.12.6->fiftyone) (1.0.0)\n",
      "Requirement already satisfied: glob2 in c:\\users\\mvsue\\miniconda3\\envs\\ai4robotics_finalproject\\lib\\site-packages (from voxel51-eta<0.13,>=0.12.6->fiftyone) (0.7)\n",
      "Requirement already satisfied: jsonlines in c:\\users\\mvsue\\miniconda3\\envs\\ai4robotics_finalproject\\lib\\site-packages (from voxel51-eta<0.13,>=0.12.6->fiftyone) (4.0.0)\n",
      "Requirement already satisfied: py7zr in c:\\users\\mvsue\\miniconda3\\envs\\ai4robotics_finalproject\\lib\\site-packages (from voxel51-eta<0.13,>=0.12.6->fiftyone) (0.21.0)\n",
      "Requirement already satisfied: rarfile in c:\\users\\mvsue\\miniconda3\\envs\\ai4robotics_finalproject\\lib\\site-packages (from voxel51-eta<0.13,>=0.12.6->fiftyone) (4.2)\n",
      "Requirement already satisfied: requests in c:\\users\\mvsue\\miniconda3\\envs\\ai4robotics_finalproject\\lib\\site-packages (from voxel51-eta<0.13,>=0.12.6->fiftyone) (2.31.0)\n",
      "Requirement already satisfied: six in c:\\users\\mvsue\\miniconda3\\envs\\ai4robotics_finalproject\\lib\\site-packages (from voxel51-eta<0.13,>=0.12.6->fiftyone) (1.16.0)\n",
      "Requirement already satisfied: sortedcontainers in c:\\users\\mvsue\\miniconda3\\envs\\ai4robotics_finalproject\\lib\\site-packages (from voxel51-eta<0.13,>=0.12.6->fiftyone) (2.4.0)\n",
      "Requirement already satisfied: tzlocal in c:\\users\\mvsue\\miniconda3\\envs\\ai4robotics_finalproject\\lib\\site-packages (from voxel51-eta<0.13,>=0.12.6->fiftyone) (5.2)\n",
      "Requirement already satisfied: urllib3 in c:\\users\\mvsue\\miniconda3\\envs\\ai4robotics_finalproject\\lib\\site-packages (from voxel51-eta<0.13,>=0.12.6->fiftyone) (1.26.18)\n",
      "Requirement already satisfied: soupsieve>1.2 in c:\\users\\mvsue\\miniconda3\\envs\\ai4robotics_finalproject\\lib\\site-packages (from beautifulsoup4->fiftyone) (2.5)\n",
      "Requirement already satisfied: botocore<1.35.0,>=1.34.99 in c:\\users\\mvsue\\miniconda3\\envs\\ai4robotics_finalproject\\lib\\site-packages (from boto3->fiftyone) (1.34.99)\n",
      "Requirement already satisfied: jmespath<2.0.0,>=0.7.1 in c:\\users\\mvsue\\miniconda3\\envs\\ai4robotics_finalproject\\lib\\site-packages (from boto3->fiftyone) (1.0.1)\n",
      "Requirement already satisfied: s3transfer<0.11.0,>=0.10.0 in c:\\users\\mvsue\\miniconda3\\envs\\ai4robotics_finalproject\\lib\\site-packages (from boto3->fiftyone) (0.10.1)\n",
      "Requirement already satisfied: wrapt<2,>=1.10 in c:\\users\\mvsue\\miniconda3\\envs\\ai4robotics_finalproject\\lib\\site-packages (from Deprecated->fiftyone) (1.16.0)\n",
      "Requirement already satisfied: wcwidth<0.3.0,>=0.2.12 in c:\\users\\mvsue\\miniconda3\\envs\\ai4robotics_finalproject\\lib\\site-packages (from ftfy->fiftyone) (0.2.13)\n",
      "Requirement already satisfied: contourpy>=1.0.1 in c:\\users\\mvsue\\miniconda3\\envs\\ai4robotics_finalproject\\lib\\site-packages (from matplotlib->fiftyone) (1.1.1)\n",
      "Requirement already satisfied: cycler>=0.10 in c:\\users\\mvsue\\miniconda3\\envs\\ai4robotics_finalproject\\lib\\site-packages (from matplotlib->fiftyone) (0.12.1)\n",
      "Requirement already satisfied: fonttools>=4.22.0 in c:\\users\\mvsue\\miniconda3\\envs\\ai4robotics_finalproject\\lib\\site-packages (from matplotlib->fiftyone) (4.51.0)\n",
      "Requirement already satisfied: kiwisolver>=1.0.1 in c:\\users\\mvsue\\miniconda3\\envs\\ai4robotics_finalproject\\lib\\site-packages (from matplotlib->fiftyone) (1.4.5)\n",
      "Requirement already satisfied: pyparsing>=2.3.1 in c:\\users\\mvsue\\miniconda3\\envs\\ai4robotics_finalproject\\lib\\site-packages (from matplotlib->fiftyone) (3.1.2)\n",
      "Requirement already satisfied: importlib-resources>=3.2.0 in c:\\users\\mvsue\\miniconda3\\envs\\ai4robotics_finalproject\\lib\\site-packages (from matplotlib->fiftyone) (6.4.0)\n",
      "Requirement already satisfied: tzdata>=2022.1 in c:\\users\\mvsue\\miniconda3\\envs\\ai4robotics_finalproject\\lib\\site-packages (from pandas->fiftyone) (2024.1)\n",
      "Requirement already satisfied: networkx>=2.8 in c:\\users\\mvsue\\miniconda3\\envs\\ai4robotics_finalproject\\lib\\site-packages (from scikit-image->fiftyone) (3.1)\n",
      "Requirement already satisfied: imageio>=2.27 in c:\\users\\mvsue\\miniconda3\\envs\\ai4robotics_finalproject\\lib\\site-packages (from scikit-image->fiftyone) (2.34.1)\n",
      "Requirement already satisfied: tifffile>=2022.8.12 in c:\\users\\mvsue\\miniconda3\\envs\\ai4robotics_finalproject\\lib\\site-packages (from scikit-image->fiftyone) (2023.7.10)\n",
      "Requirement already satisfied: PyWavelets>=1.1.1 in c:\\users\\mvsue\\miniconda3\\envs\\ai4robotics_finalproject\\lib\\site-packages (from scikit-image->fiftyone) (1.4.1)\n",
      "Requirement already satisfied: lazy_loader>=0.2 in c:\\users\\mvsue\\miniconda3\\envs\\ai4robotics_finalproject\\lib\\site-packages (from scikit-image->fiftyone) (0.4)\n",
      "Requirement already satisfied: joblib>=1.1.1 in c:\\users\\mvsue\\miniconda3\\envs\\ai4robotics_finalproject\\lib\\site-packages (from scikit-learn->fiftyone) (1.4.2)\n",
      "Requirement already satisfied: threadpoolctl>=2.0.0 in c:\\users\\mvsue\\miniconda3\\envs\\ai4robotics_finalproject\\lib\\site-packages (from scikit-learn->fiftyone) (3.5.0)\n",
      "Requirement already satisfied: idna>=2.8 in c:\\users\\mvsue\\miniconda3\\envs\\ai4robotics_finalproject\\lib\\site-packages (from anyio<5,>=3.4.0->starlette>=0.24.0->fiftyone) (3.7)\n",
      "Requirement already satisfied: sniffio>=1.1 in c:\\users\\mvsue\\miniconda3\\envs\\ai4robotics_finalproject\\lib\\site-packages (from anyio<5,>=3.4.0->starlette>=0.24.0->fiftyone) (1.3.1)\n",
      "Requirement already satisfied: exceptiongroup>=1.0.2 in c:\\users\\mvsue\\miniconda3\\envs\\ai4robotics_finalproject\\lib\\site-packages (from anyio<5,>=3.4.0->starlette>=0.24.0->fiftyone) (1.2.0)\n",
      "Requirement already satisfied: hyperframe<7,>=6.0 in c:\\users\\mvsue\\miniconda3\\envs\\ai4robotics_finalproject\\lib\\site-packages (from h2>=3.1.0->hypercorn>=0.13.2->fiftyone) (6.0.1)\n",
      "Requirement already satisfied: hpack<5,>=4.0 in c:\\users\\mvsue\\miniconda3\\envs\\ai4robotics_finalproject\\lib\\site-packages (from h2>=3.1.0->hypercorn>=0.13.2->fiftyone) (4.0.0)\n",
      "Requirement already satisfied: certifi in c:\\users\\mvsue\\miniconda3\\envs\\ai4robotics_finalproject\\lib\\site-packages (from httpx>=0.10.0->universal-analytics-python3<2,>=1.0.1->fiftyone) (2024.2.2)\n",
      "Requirement already satisfied: httpcore==1.* in c:\\users\\mvsue\\miniconda3\\envs\\ai4robotics_finalproject\\lib\\site-packages (from httpx>=0.10.0->universal-analytics-python3<2,>=1.0.1->fiftyone) (1.0.5)\n",
      "Requirement already satisfied: zipp>=3.1.0 in c:\\users\\mvsue\\miniconda3\\envs\\ai4robotics_finalproject\\lib\\site-packages (from importlib-resources>=3.2.0->matplotlib->fiftyone) (3.18.1)\n",
      "Requirement already satisfied: attrs>=19.2.0 in c:\\users\\mvsue\\miniconda3\\envs\\ai4robotics_finalproject\\lib\\site-packages (from jsonlines->voxel51-eta<0.13,>=0.12.6->fiftyone) (23.2.0)\n",
      "Requirement already satisfied: texttable in c:\\users\\mvsue\\miniconda3\\envs\\ai4robotics_finalproject\\lib\\site-packages (from py7zr->voxel51-eta<0.13,>=0.12.6->fiftyone) (1.7.0)\n",
      "Requirement already satisfied: pycryptodomex>=3.16.0 in c:\\users\\mvsue\\miniconda3\\envs\\ai4robotics_finalproject\\lib\\site-packages (from py7zr->voxel51-eta<0.13,>=0.12.6->fiftyone) (3.20.0)\n",
      "Requirement already satisfied: pyzstd>=0.15.9 in c:\\users\\mvsue\\miniconda3\\envs\\ai4robotics_finalproject\\lib\\site-packages (from py7zr->voxel51-eta<0.13,>=0.12.6->fiftyone) (0.15.10)\n",
      "Requirement already satisfied: pyppmd<1.2.0,>=1.1.0 in c:\\users\\mvsue\\miniconda3\\envs\\ai4robotics_finalproject\\lib\\site-packages (from py7zr->voxel51-eta<0.13,>=0.12.6->fiftyone) (1.1.0)\n",
      "Requirement already satisfied: pybcj<1.1.0,>=1.0.0 in c:\\users\\mvsue\\miniconda3\\envs\\ai4robotics_finalproject\\lib\\site-packages (from py7zr->voxel51-eta<0.13,>=0.12.6->fiftyone) (1.0.2)\n",
      "Requirement already satisfied: multivolumefile>=0.2.3 in c:\\users\\mvsue\\miniconda3\\envs\\ai4robotics_finalproject\\lib\\site-packages (from py7zr->voxel51-eta<0.13,>=0.12.6->fiftyone) (0.2.3)\n",
      "Requirement already satisfied: inflate64<1.1.0,>=1.0.0 in c:\\users\\mvsue\\miniconda3\\envs\\ai4robotics_finalproject\\lib\\site-packages (from py7zr->voxel51-eta<0.13,>=0.12.6->fiftyone) (1.0.0)\n",
      "Requirement already satisfied: brotli>=1.1.0 in c:\\users\\mvsue\\miniconda3\\envs\\ai4robotics_finalproject\\lib\\site-packages (from py7zr->voxel51-eta<0.13,>=0.12.6->fiftyone) (1.1.0)\n",
      "Requirement already satisfied: charset-normalizer<4,>=2 in c:\\users\\mvsue\\miniconda3\\envs\\ai4robotics_finalproject\\lib\\site-packages (from requests->voxel51-eta<0.13,>=0.12.6->fiftyone) (3.3.2)\n",
      "Requirement already satisfied: backports.zoneinfo in c:\\users\\mvsue\\miniconda3\\envs\\ai4robotics_finalproject\\lib\\site-packages (from tzlocal->voxel51-eta<0.13,>=0.12.6->fiftyone) (0.2.1)\n",
      "Note: you may need to restart the kernel to use updated packages.\n"
     ]
    }
   ],
   "source": [
    "%pip install ultralytics\n",
    "%pip install fiftyone"
   ]
  },
  {
   "cell_type": "code",
   "execution_count": 2,
   "metadata": {},
   "outputs": [
    {
     "name": "stdout",
     "output_type": "stream",
     "text": [
      "Downloading split 'train' to './camera_data\\train' if necessary\n",
      "Only found 299 (<1000) samples matching your requirements\n",
      "Necessary images already downloaded\n",
      "Existing download of split 'train' is sufficient\n",
      "Loading existing dataset 'open-images-v7-train-1000'. To reload from disk, either delete the existing dataset or provide a custom `dataset_name` to use\n",
      " 100% |█████████████████| 299/299 [5.9s elapsed, 0s remaining, 62.1 samples/s]      \n",
      "Downloading split 'test' to './camera_data\\test' if necessary\n",
      "Only found 45 (<1000) samples matching your requirements\n",
      "Necessary images already downloaded\n",
      "Existing download of split 'test' is sufficient\n",
      "Loading existing dataset 'open-images-v7-test-1000'. To reload from disk, either delete the existing dataset or provide a custom `dataset_name` to use\n",
      "Directory './camera_data/YOLO_Dataset' already exists; export will be merged with existing files\n",
      " 100% |███████████████████| 45/45 [871.5ms elapsed, 0s remaining, 51.6 samples/s]      \n",
      "Downloading split 'validation' to './camera_data\\validation' if necessary\n",
      "Only found 11 (<1000) samples matching your requirements\n",
      "Necessary images already downloaded\n",
      "Existing download of split 'validation' is sufficient\n",
      "Loading existing dataset 'open-images-v7-validation-1000'. To reload from disk, either delete the existing dataset or provide a custom `dataset_name` to use\n",
      "Directory './camera_data/YOLO_Dataset' already exists; export will be merged with existing files\n",
      " 100% |███████████████████| 11/11 [187.0ms elapsed, 0s remaining, 58.8 samples/s]     \n"
     ]
    }
   ],
   "source": [
    "import fiftyone as fo\n",
    "import fiftyone.zoo as foz\n",
    "from ultralytics.utils import LOGGER, SETTINGS, Path\n",
    "import warnings\n",
    "\n",
    "name = \"open-images-v7-tennis-ball\"\n",
    "for split in 'train', 'test', 'validation': # Leave out the validation set.\n",
    "    train = split == 'train'\n",
    "\n",
    "    dataset = foz.load_zoo_dataset(\"open-images-v7\", split=split, label_types=[\"detections\"], classes=[\"Tennis ball\"], \n",
    "                                dataset_dir=\"./camera_data\",\n",
    "                                max_samples=1000, shuffle=True)\n",
    "\n",
    "\n",
    "    # Export the dataset to the YOLOv5 format for easy training and configuration using the Ultralytics API.\n",
    "    if split == 'train':\n",
    "        classes = dataset.distinct('ground_truth.detections.label')  # only observed classes - get the distinct labels in the dataset.\n",
    "\n",
    "    with warnings.catch_warnings():\n",
    "        warnings.filterwarnings(\"ignore\", category=UserWarning, module=\"fiftyone.utils.yolo\")\n",
    "        dataset.export(export_dir=\"./camera_data/YOLO_Dataset\",\n",
    "                            dataset_type=fo.types.YOLOv5Dataset,\n",
    "                            label_field='ground_truth',\n",
    "                            split='val' if split == 'validation' else split,\n",
    "                            classes=classes,\n",
    "                            overwrite=train)"
   ]
  },
  {
   "cell_type": "markdown",
   "metadata": {},
   "source": [
    "- Need to condense the train/test/validation csvs for only tennis balls using the LabelName \"/m/05ctyq\". Each has max and min values for x and y to draw a bounding box with extra info which can be ignored.\n",
    "- Images and other data saved here: C:\\Users\\mvsue\\fiftyone\\open-images-v7"
   ]
  },
  {
   "cell_type": "markdown",
   "metadata": {},
   "source": [
    "#### Training Code"
   ]
  },
  {
   "cell_type": "markdown",
   "metadata": {},
   "source": [
    "Ultralytics and Open Images V7: https://docs.ultralytics.com/datasets/detect/open-images-v7/#citations-and-acknowledgments\n",
    "\n",
    "Training: https://docs.ultralytics.com/modes/train/#key-features-of-train-mode"
   ]
  },
  {
   "cell_type": "code",
   "execution_count": 3,
   "metadata": {},
   "outputs": [
    {
     "name": "stdout",
     "output_type": "stream",
     "text": [
      "Downloading https://github.com/ultralytics/assets/releases/download/v8.2.0/yolov8n-oiv7.pt to 'camera_data\\YOLO_Dataset\\yolov8n-oiv7.pt'...\n"
     ]
    },
    {
     "name": "stderr",
     "output_type": "stream",
     "text": [
      "100%|██████████| 6.87M/6.87M [00:04<00:00, 1.48MB/s]\n"
     ]
    },
    {
     "name": "stdout",
     "output_type": "stream",
     "text": [
      "New https://pypi.org/project/ultralytics/8.2.11 available  Update with 'pip install -U ultralytics'\n",
      "Ultralytics YOLOv8.2.10  Python-3.8.19 torch-2.3.0+cpu CPU (AMD Ryzen 7 2700X Eight-Core Processor)\n",
      "\u001b[34m\u001b[1mengine\\trainer: \u001b[0mtask=detect, mode=train, model=./camera_data/YOLO_Dataset/yolov8n-oiv7.pt, data=./camera_data/YOLO_Dataset/dataset.yaml, epochs=200, time=None, patience=100, batch=16, imgsz=640, save=True, save_period=-1, cache=False, device=None, workers=8, project=None, name=train4, exist_ok=False, pretrained=True, optimizer=auto, verbose=True, seed=0, deterministic=True, single_cls=False, rect=False, cos_lr=False, close_mosaic=10, resume=False, amp=True, fraction=1.0, profile=False, freeze=None, multi_scale=False, overlap_mask=True, mask_ratio=4, dropout=0.0, val=True, split=val, save_json=False, save_hybrid=False, conf=None, iou=0.7, max_det=300, half=False, dnn=False, plots=True, source=None, vid_stride=1, stream_buffer=False, visualize=False, augment=False, agnostic_nms=False, classes=None, retina_masks=False, embed=None, show=False, save_frames=False, save_txt=False, save_conf=False, save_crop=False, show_labels=True, show_conf=True, show_boxes=True, line_width=None, format=torchscript, keras=False, optimize=False, int8=False, dynamic=False, simplify=False, opset=None, workspace=4, nms=False, lr0=0.01, lrf=0.01, momentum=0.937, weight_decay=0.0005, warmup_epochs=3.0, warmup_momentum=0.8, warmup_bias_lr=0.1, box=7.5, cls=0.5, dfl=1.5, pose=12.0, kobj=1.0, label_smoothing=0.0, nbs=64, hsv_h=0.015, hsv_s=0.7, hsv_v=0.4, degrees=0.0, translate=0.1, scale=0.5, shear=0.0, perspective=0.0, flipud=0.0, fliplr=0.5, bgr=0.0, mosaic=1.0, mixup=0.0, copy_paste=0.0, auto_augment=randaugment, erasing=0.4, crop_fraction=1.0, cfg=None, tracker=botsort.yaml, save_dir=runs\\detect\\train4\n",
      "Overriding model.yaml nc=601 with nc=45\n",
      "\n",
      "                   from  n    params  module                                       arguments                     \n",
      "  0                  -1  1       464  ultralytics.nn.modules.conv.Conv             [3, 16, 3, 2]                 \n",
      "  1                  -1  1      4672  ultralytics.nn.modules.conv.Conv             [16, 32, 3, 2]                \n",
      "  2                  -1  1      7360  ultralytics.nn.modules.block.C2f             [32, 32, 1, True]             \n",
      "  3                  -1  1     18560  ultralytics.nn.modules.conv.Conv             [32, 64, 3, 2]                \n",
      "  4                  -1  2     49664  ultralytics.nn.modules.block.C2f             [64, 64, 2, True]             \n",
      "  5                  -1  1     73984  ultralytics.nn.modules.conv.Conv             [64, 128, 3, 2]               \n",
      "  6                  -1  2    197632  ultralytics.nn.modules.block.C2f             [128, 128, 2, True]           \n",
      "  7                  -1  1    295424  ultralytics.nn.modules.conv.Conv             [128, 256, 3, 2]              \n",
      "  8                  -1  1    460288  ultralytics.nn.modules.block.C2f             [256, 256, 1, True]           \n",
      "  9                  -1  1    164608  ultralytics.nn.modules.block.SPPF            [256, 256, 5]                 \n",
      " 10                  -1  1         0  torch.nn.modules.upsampling.Upsample         [None, 2, 'nearest']          \n",
      " 11             [-1, 6]  1         0  ultralytics.nn.modules.conv.Concat           [1]                           \n",
      " 12                  -1  1    148224  ultralytics.nn.modules.block.C2f             [384, 128, 1]                 \n",
      " 13                  -1  1         0  torch.nn.modules.upsampling.Upsample         [None, 2, 'nearest']          \n",
      " 14             [-1, 4]  1         0  ultralytics.nn.modules.conv.Concat           [1]                           \n",
      " 15                  -1  1     37248  ultralytics.nn.modules.block.C2f             [192, 64, 1]                  \n",
      " 16                  -1  1     36992  ultralytics.nn.modules.conv.Conv             [64, 64, 3, 2]                \n",
      " 17            [-1, 12]  1         0  ultralytics.nn.modules.conv.Concat           [1]                           \n",
      " 18                  -1  1    123648  ultralytics.nn.modules.block.C2f             [192, 128, 1]                 \n",
      " 19                  -1  1    147712  ultralytics.nn.modules.conv.Conv             [128, 128, 3, 2]              \n",
      " 20             [-1, 9]  1         0  ultralytics.nn.modules.conv.Concat           [1]                           \n",
      " 21                  -1  1    493056  ultralytics.nn.modules.block.C2f             [384, 256, 1]                 \n",
      " 22        [15, 18, 21]  1    760087  ultralytics.nn.modules.head.Detect           [45, [64, 128, 256]]          \n",
      "YOLOv8n summary: 225 layers, 3019623 parameters, 3019607 gradients, 8.2 GFLOPs\n",
      "\n",
      "Transferred 319/355 items from pretrained weights\n",
      "\u001b[34m\u001b[1mTensorBoard: \u001b[0mStart with 'tensorboard --logdir runs\\detect\\train4', view at http://localhost:6006/\n",
      "Freezing layer 'model.22.dfl.conv.weight'\n"
     ]
    },
    {
     "name": "stderr",
     "output_type": "stream",
     "text": [
      "\u001b[34m\u001b[1mtrain: \u001b[0mScanning C:\\Users\\mvsue\\OneDrive - UTS\\UTS\\Ai in Robotics\\AI-In-Robotics-Project\\camera_data\\YOLO_Dataset\\labels\\train... 299 images, 0 backgrounds, 0 corrupt: 100%|██████████| 299/299 [00:00<00:00, 652.84it/s]"
     ]
    },
    {
     "name": "stdout",
     "output_type": "stream",
     "text": [
      "\u001b[34m\u001b[1mtrain: \u001b[0mWARNING  C:\\Users\\mvsue\\OneDrive - UTS\\UTS\\Ai in Robotics\\AI-In-Robotics-Project\\camera_data\\YOLO_Dataset\\images\\train\\2497e41cea655ddc.jpg: 1 duplicate labels removed\n",
      "\u001b[34m\u001b[1mtrain: \u001b[0mNew cache created: C:\\Users\\mvsue\\OneDrive - UTS\\UTS\\Ai in Robotics\\AI-In-Robotics-Project\\camera_data\\YOLO_Dataset\\labels\\train.cache\n"
     ]
    },
    {
     "name": "stderr",
     "output_type": "stream",
     "text": [
      "\n",
      "\u001b[34m\u001b[1mval: \u001b[0mScanning C:\\Users\\mvsue\\OneDrive - UTS\\UTS\\Ai in Robotics\\AI-In-Robotics-Project\\camera_data\\YOLO_Dataset\\labels\\val... 11 images, 0 backgrounds, 0 corrupt: 100%|██████████| 11/11 [00:00<00:00, 314.24it/s]"
     ]
    },
    {
     "name": "stdout",
     "output_type": "stream",
     "text": [
      "\u001b[34m\u001b[1mval: \u001b[0mNew cache created: C:\\Users\\mvsue\\OneDrive - UTS\\UTS\\Ai in Robotics\\AI-In-Robotics-Project\\camera_data\\YOLO_Dataset\\labels\\val.cache\n"
     ]
    },
    {
     "name": "stderr",
     "output_type": "stream",
     "text": [
      "\n"
     ]
    },
    {
     "name": "stdout",
     "output_type": "stream",
     "text": [
      "Plotting labels to runs\\detect\\train4\\labels.jpg... \n",
      "\u001b[34m\u001b[1moptimizer:\u001b[0m 'optimizer=auto' found, ignoring 'lr0=0.01' and 'momentum=0.937' and determining best 'optimizer', 'lr0' and 'momentum' automatically... \n",
      "\u001b[34m\u001b[1moptimizer:\u001b[0m AdamW(lr=0.000204, momentum=0.9) with parameter groups 57 weight(decay=0.0), 64 weight(decay=0.0005), 63 bias(decay=0.0)\n",
      "\u001b[34m\u001b[1mTensorBoard: \u001b[0mmodel graph visualization added \n",
      "Image sizes 640 train, 640 val\n",
      "Using 0 dataloader workers\n",
      "Logging results to \u001b[1mruns\\detect\\train4\u001b[0m\n",
      "Starting training for 200 epochs...\n",
      "\n",
      "      Epoch    GPU_mem   box_loss   cls_loss   dfl_loss  Instances       Size\n"
     ]
    },
    {
     "name": "stderr",
     "output_type": "stream",
     "text": [
      "      1/200         0G      1.307      4.944       1.32         79        640: 100%|██████████| 19/19 [02:14<00:00,  7.09s/it]\n",
      "                 Class     Images  Instances      Box(P          R      mAP50  mAP50-95): 100%|██████████| 1/1 [00:02<00:00,  2.57s/it]"
     ]
    },
    {
     "name": "stdout",
     "output_type": "stream",
     "text": [
      "                   all         11         97          0          0          0          0\n"
     ]
    },
    {
     "name": "stderr",
     "output_type": "stream",
     "text": [
      "\n"
     ]
    },
    {
     "name": "stdout",
     "output_type": "stream",
     "text": [
      "\n",
      "      Epoch    GPU_mem   box_loss   cls_loss   dfl_loss  Instances       Size\n"
     ]
    },
    {
     "name": "stderr",
     "output_type": "stream",
     "text": [
      "      2/200         0G      1.291      4.727      1.288         64        640: 100%|██████████| 19/19 [02:16<00:00,  7.21s/it]\n",
      "                 Class     Images  Instances      Box(P          R      mAP50  mAP50-95): 100%|██████████| 1/1 [00:02<00:00,  2.15s/it]"
     ]
    },
    {
     "name": "stdout",
     "output_type": "stream",
     "text": [
      "                   all         11         97          0          0          0          0\n"
     ]
    },
    {
     "name": "stderr",
     "output_type": "stream",
     "text": [
      "\n"
     ]
    },
    {
     "name": "stdout",
     "output_type": "stream",
     "text": [
      "\n",
      "      Epoch    GPU_mem   box_loss   cls_loss   dfl_loss  Instances       Size\n"
     ]
    },
    {
     "name": "stderr",
     "output_type": "stream",
     "text": [
      "      3/200         0G       1.32      4.218       1.29         96        640: 100%|██████████| 19/19 [02:17<00:00,  7.25s/it]\n",
      "                 Class     Images  Instances      Box(P          R      mAP50  mAP50-95): 100%|██████████| 1/1 [00:02<00:00,  2.18s/it]"
     ]
    },
    {
     "name": "stdout",
     "output_type": "stream",
     "text": [
      "                   all         11         97     0.0532     0.0884     0.0677     0.0451\n"
     ]
    },
    {
     "name": "stderr",
     "output_type": "stream",
     "text": [
      "\n"
     ]
    },
    {
     "name": "stdout",
     "output_type": "stream",
     "text": [
      "\n",
      "      Epoch    GPU_mem   box_loss   cls_loss   dfl_loss  Instances       Size\n"
     ]
    },
    {
     "name": "stderr",
     "output_type": "stream",
     "text": [
      "      4/200         0G      1.342      3.675      1.284        105        640: 100%|██████████| 19/19 [02:08<00:00,  6.78s/it]\n",
      "                 Class     Images  Instances      Box(P          R      mAP50  mAP50-95): 100%|██████████| 1/1 [00:02<00:00,  2.10s/it]"
     ]
    },
    {
     "name": "stdout",
     "output_type": "stream",
     "text": [
      "                   all         11         97      0.624       0.11      0.156      0.117\n"
     ]
    },
    {
     "name": "stderr",
     "output_type": "stream",
     "text": [
      "\n"
     ]
    },
    {
     "name": "stdout",
     "output_type": "stream",
     "text": [
      "\n",
      "      Epoch    GPU_mem   box_loss   cls_loss   dfl_loss  Instances       Size\n"
     ]
    },
    {
     "name": "stderr",
     "output_type": "stream",
     "text": [
      "      5/200         0G      1.304      3.188      1.276         57        640: 100%|██████████| 19/19 [02:19<00:00,  7.34s/it]\n",
      "                 Class     Images  Instances      Box(P          R      mAP50  mAP50-95): 100%|██████████| 1/1 [00:01<00:00,  1.89s/it]"
     ]
    },
    {
     "name": "stdout",
     "output_type": "stream",
     "text": [
      "                   all         11         97     0.0909      0.331      0.221      0.164\n"
     ]
    },
    {
     "name": "stderr",
     "output_type": "stream",
     "text": [
      "\n"
     ]
    },
    {
     "name": "stdout",
     "output_type": "stream",
     "text": [
      "\n",
      "      Epoch    GPU_mem   box_loss   cls_loss   dfl_loss  Instances       Size\n"
     ]
    },
    {
     "name": "stderr",
     "output_type": "stream",
     "text": [
      "      6/200         0G      1.317      2.926      1.279         74        640: 100%|██████████| 19/19 [01:59<00:00,  6.31s/it]\n",
      "                 Class     Images  Instances      Box(P          R      mAP50  mAP50-95): 100%|██████████| 1/1 [00:01<00:00,  1.85s/it]"
     ]
    },
    {
     "name": "stdout",
     "output_type": "stream",
     "text": [
      "                   all         11         97      0.103       0.39      0.236      0.157\n"
     ]
    },
    {
     "name": "stderr",
     "output_type": "stream",
     "text": [
      "\n"
     ]
    },
    {
     "name": "stdout",
     "output_type": "stream",
     "text": [
      "\n",
      "      Epoch    GPU_mem   box_loss   cls_loss   dfl_loss  Instances       Size\n"
     ]
    },
    {
     "name": "stderr",
     "output_type": "stream",
     "text": [
      "      7/200         0G      1.296      2.859      1.287         72        640: 100%|██████████| 19/19 [02:02<00:00,  6.45s/it]\n",
      "                 Class     Images  Instances      Box(P          R      mAP50  mAP50-95): 100%|██████████| 1/1 [00:01<00:00,  1.98s/it]"
     ]
    },
    {
     "name": "stdout",
     "output_type": "stream",
     "text": [
      "                   all         11         97      0.771      0.178      0.271      0.166\n"
     ]
    },
    {
     "name": "stderr",
     "output_type": "stream",
     "text": [
      "\n"
     ]
    },
    {
     "name": "stdout",
     "output_type": "stream",
     "text": [
      "\n",
      "      Epoch    GPU_mem   box_loss   cls_loss   dfl_loss  Instances       Size\n"
     ]
    },
    {
     "name": "stderr",
     "output_type": "stream",
     "text": [
      "      8/200         0G       1.22       2.71      1.269         84        640: 100%|██████████| 19/19 [02:07<00:00,  6.72s/it]\n",
      "                 Class     Images  Instances      Box(P          R      mAP50  mAP50-95): 100%|██████████| 1/1 [00:02<00:00,  2.23s/it]"
     ]
    },
    {
     "name": "stdout",
     "output_type": "stream",
     "text": [
      "                   all         11         97      0.669      0.201      0.282      0.183\n"
     ]
    },
    {
     "name": "stderr",
     "output_type": "stream",
     "text": [
      "\n"
     ]
    },
    {
     "name": "stdout",
     "output_type": "stream",
     "text": [
      "\n",
      "      Epoch    GPU_mem   box_loss   cls_loss   dfl_loss  Instances       Size\n"
     ]
    },
    {
     "name": "stderr",
     "output_type": "stream",
     "text": [
      "      9/200         0G      1.197      2.554      1.262         63        640: 100%|██████████| 19/19 [02:08<00:00,  6.74s/it]\n",
      "                 Class     Images  Instances      Box(P          R      mAP50  mAP50-95): 100%|██████████| 1/1 [00:02<00:00,  2.37s/it]"
     ]
    },
    {
     "name": "stdout",
     "output_type": "stream",
     "text": [
      "                   all         11         97      0.655      0.229      0.292      0.202\n"
     ]
    },
    {
     "name": "stderr",
     "output_type": "stream",
     "text": [
      "\n"
     ]
    },
    {
     "name": "stdout",
     "output_type": "stream",
     "text": [
      "\n",
      "      Epoch    GPU_mem   box_loss   cls_loss   dfl_loss  Instances       Size\n"
     ]
    },
    {
     "name": "stderr",
     "output_type": "stream",
     "text": [
      "     10/200         0G      1.268      2.467      1.243        119        640: 100%|██████████| 19/19 [02:14<00:00,  7.07s/it]\n",
      "                 Class     Images  Instances      Box(P          R      mAP50  mAP50-95): 100%|██████████| 1/1 [00:02<00:00,  2.13s/it]"
     ]
    },
    {
     "name": "stdout",
     "output_type": "stream",
     "text": [
      "                   all         11         97      0.608      0.215      0.307      0.221\n"
     ]
    },
    {
     "name": "stderr",
     "output_type": "stream",
     "text": [
      "\n"
     ]
    },
    {
     "name": "stdout",
     "output_type": "stream",
     "text": [
      "\n",
      "      Epoch    GPU_mem   box_loss   cls_loss   dfl_loss  Instances       Size\n"
     ]
    },
    {
     "name": "stderr",
     "output_type": "stream",
     "text": [
      "     11/200         0G      1.208      2.325      1.239         66        640: 100%|██████████| 19/19 [02:13<00:00,  7.00s/it]\n",
      "                 Class     Images  Instances      Box(P          R      mAP50  mAP50-95): 100%|██████████| 1/1 [00:02<00:00,  2.21s/it]"
     ]
    },
    {
     "name": "stdout",
     "output_type": "stream",
     "text": [
      "                   all         11         97       0.55      0.229      0.315       0.22\n"
     ]
    },
    {
     "name": "stderr",
     "output_type": "stream",
     "text": [
      "\n"
     ]
    },
    {
     "name": "stdout",
     "output_type": "stream",
     "text": [
      "\n",
      "      Epoch    GPU_mem   box_loss   cls_loss   dfl_loss  Instances       Size\n"
     ]
    },
    {
     "name": "stderr",
     "output_type": "stream",
     "text": [
      "     12/200         0G      1.235      2.322      1.225        144        640: 100%|██████████| 19/19 [02:12<00:00,  6.96s/it]\n",
      "                 Class     Images  Instances      Box(P          R      mAP50  mAP50-95): 100%|██████████| 1/1 [00:01<00:00,  1.98s/it]"
     ]
    },
    {
     "name": "stdout",
     "output_type": "stream",
     "text": [
      "                   all         11         97      0.499      0.227      0.328      0.209\n"
     ]
    },
    {
     "name": "stderr",
     "output_type": "stream",
     "text": [
      "\n"
     ]
    },
    {
     "name": "stdout",
     "output_type": "stream",
     "text": [
      "\n",
      "      Epoch    GPU_mem   box_loss   cls_loss   dfl_loss  Instances       Size\n"
     ]
    },
    {
     "name": "stderr",
     "output_type": "stream",
     "text": [
      "     13/200         0G      1.252      2.226      1.228        132        640:  42%|████▏     | 8/19 [00:55<01:21,  7.37s/it]"
     ]
    }
   ],
   "source": [
    "# Download a YOLO segmentation model.\n",
    "# Need to add a softmax and maybe other layers on top for two classes: [tennis ball, not tennis ball].\n",
    "# Data output should be pixel segmented image with binary tennis ball locations with depth.\n",
    "\n",
    "# How to get class output and depth using a softmax? - We don't need to predict depth as we have the depth camera already?\n",
    "from ultralytics import YOLO\n",
    "\n",
    "# Load this model pretrained on the Open Images V7 Dataset.\n",
    "model = YOLO('./camera_data/YOLO_Dataset/yolov8n-oiv7.pt')\n",
    "\n",
    "# Train on the created dataset via the .yaml made in the previous section.\n",
    "# Pump up the imgsz.\n",
    "results = model.train(data='./camera_data/YOLO_Dataset/dataset.yaml', epochs=200, imgsz=640)\n",
    "# imgsz is the size to which images are automatically resized during training in [width, height]\n",
    "# Make it the same as the pybullet simulation."
   ]
  },
  {
   "cell_type": "markdown",
   "metadata": {},
   "source": [
    "Run predictions on the test set to assess model performance.\n",
    "\n",
    "Guide: https://docs.ultralytics.com/modes/predict/#key-features-of-predict-mode"
   ]
  },
  {
   "cell_type": "code",
   "execution_count": null,
   "metadata": {},
   "outputs": [
    {
     "name": "stdout",
     "output_type": "stream",
     "text": [
      "\n",
      "image 1/1 c:\\Users\\mvsue\\OneDrive - UTS\\UTS\\Ai in Robotics\\AI-In-Robotics-Project\\camera_data\\test\\data\\33f577e844eb3e26.jpg: 256x320 1 Human face, 1 Tennis ball, 1 Tennis racket, 52.0ms\n",
      "Speed: 1.0ms preprocess, 52.0ms inference, 1.0ms postprocess per image at shape (1, 3, 256, 320)\n"
     ]
    }
   ],
   "source": [
    "from ultralytics.utils.plotting import Annotator\n",
    "import random\n",
    "import os\n",
    "from PIL import Image\n",
    "from ultralytics import YOLO\n",
    "# https://stackoverflow.com/questions/75324341/yolov8-get-predicted-bounding-box \n",
    "\n",
    "# Load the model if you have to.\n",
    "model = YOLO('./runs/detect/train3/weights/best.pt')\n",
    "\n",
    "# https://stackoverflow.com/questions/701402/best-way-to-choose-a-random-file-from-a-directory\n",
    "random_file = random.choice(os.listdir('./camera_data/test/data'))\n",
    "\n",
    "test_results = model.predict('./camera_data/test/data/'f'{random_file}')\n",
    "\n",
    "annotator = Annotator(Image.open('./camera_data/test/data/'f'{random_file}'), pil=True)\n",
    "\n",
    "boxes = test_results[0].boxes\n",
    "for box in boxes:\n",
    "    b = box.xyxy[0] # Box coordinates, left, top, right, bottom.\n",
    "    c = box.cls\n",
    "    annotator.box_label(b, model.names[int(c)])\n",
    "\n",
    "annotator.show()\n",
    "\n",
    "# img = annotator.result()\n",
    "# img[0]\n",
    "# cv2.imshow('YOLO V8 Test Sample Result', img)\n",
    "\n",
    "# if cv2.waitKey(1) & 0xFF == ord(' '):\n",
    "#     break"
   ]
  }
 ],
 "metadata": {
  "kernelspec": {
   "display_name": "Ai4Robotics_FinalProject",
   "language": "python",
   "name": "python3"
  },
  "language_info": {
   "codemirror_mode": {
    "name": "ipython",
    "version": 3
   },
   "file_extension": ".py",
   "mimetype": "text/x-python",
   "name": "python",
   "nbconvert_exporter": "python",
   "pygments_lexer": "ipython3",
   "version": "3.8.19"
  }
 },
 "nbformat": 4,
 "nbformat_minor": 2
}
